{
 "cells": [
  {
   "cell_type": "code",
   "execution_count": 27,
   "metadata": {},
   "outputs": [
    {
     "name": "stdout",
     "output_type": "stream",
     "text": [
      "[100, 200, 300, 400, 500, [1, 2, 3, 4, 5, [10, 20, 30, 40, 50], 6, 7, 8, 9], 600, 700, 800]\n",
      "[1, 2, 3, 4]\n",
      "[600, 700]\n",
      "[100, 300, 500, 600, 800]\n",
      "[800, 700, 600, [1, 2, 3, 4, 5, [10, 20, 30, 40, 50], 6, 7, 8, 9], 500, 400, 300, 200, 100]\n",
      "10\n"
     ]
    }
   ],
   "source": [
    "'''\n",
    "First 2 questions covered in last assignment. Starting from 3\n",
    "\n",
    "3. \tCreate a list of given structure and run \n",
    "\tx=[100,200,300,400,500,[1,2,3,4,5,[10,20,30,40,50],6,7,8,9],600,700,800]\n",
    "●\tAccess list [1, 2, 3, 4]\n",
    "●\tAccess list [600,  700]\n",
    "●\tAccess list [100, 300, 500, 600, 800]\n",
    "●\tAccess list [[800, 700, 600, [1, 2, 3, 4, 5, [10, 20, 30, 40, 50], 6, 7, 8, 9], 500, 400, 300, 200, 100]]\n",
    "●\tAccess list [10]\n",
    "●\tAccess list [ ]'''\n",
    "x=[100,200,300,400,500,[1,2,3,4,5,[10,20,30,40,50],6,7,8,9],600,700,800]\n",
    "print(x)\n",
    "#1\n",
    "print(x[5][0:4])\n",
    "#2\n",
    "print(x[-3:-1])\n",
    "#3\n",
    "z=[]\n",
    "for i in range(len(x)):\n",
    "    if i%2==0:\n",
    "        z.append(x[i])\n",
    "    else:\n",
    "        continue\n",
    "print(z)\n",
    "#4\n",
    "print(x[::-1])\n",
    "#5\n",
    "print(x[5][5][0])\n",
    "#6\n",
    "x.append(\"\")\n",
    "print(x[-1])\n",
    "\n",
    "\n"
   ]
  },
  {
   "cell_type": "code",
   "execution_count": 2,
   "metadata": {},
   "outputs": [
    {
     "name": "stdout",
     "output_type": "stream",
     "text": [
      "The return type of range() is : \n",
      "<class 'range'>\n"
     ]
    }
   ],
   "source": [
    "'''\n",
    "Create a list of thousand number using range and xrange and see the difference between each other.\n",
    "\n",
    "Ans\n",
    "range() is faster if iterating over the same sequence multiple times.\n",
    "xrange() has to reconstruct the integer object every time, but range() will have real integer objects.'''\n",
    "\n",
    "# python 3.x\n",
    "a = range(1,1000) \n",
    "  \n",
    "# python2.x\n",
    "#x = xrange(1,1000) \n",
    "\n",
    "#Type of range is list ,whereas xrange is xrange   \n",
    "# testing the type of a \n",
    "print (\"The return type of range() is : \") \n",
    "print (type(a)) \n",
    "  \n",
    "# testing the type of x \n",
    "#print (\"The return type of xrange() is : \") \n",
    "#print (type(x)) "
   ]
  },
  {
   "cell_type": "code",
   "execution_count": 3,
   "metadata": {},
   "outputs": [
    {
     "data": {
      "text/plain": [
       "'\\n1 Lists are Time-consuming wheras while using Implication of iterations is comparatively Faster\\n2 Lists consume more memory whereas Tuple consume less memory as compared to the list\\n'"
      ]
     },
     "execution_count": 3,
     "metadata": {},
     "output_type": "execute_result"
    }
   ],
   "source": [
    "#How Tuple is beneficial as compare to the list?\n",
    "\n",
    "'''\n",
    "1 Lists are Time-consuming wheras while using Implication of iterations is comparatively Faster\n",
    "2 Lists consume more memory whereas Tuple consume less memory as compared to the list\n",
    "'''\n"
   ]
  },
  {
   "cell_type": "code",
   "execution_count": 32,
   "metadata": {},
   "outputs": [
    {
     "name": "stdout",
     "output_type": "stream",
     "text": [
      "6,12,18,24,30,36,42,48,54,60,66,72,78,84,90,96,"
     ]
    }
   ],
   "source": [
    "'''6. \tWrite a program in Python to iterate through the list of numbers in the range of 1,100 \n",
    "and print the number which is divisible by 3 and a multiple of 2.'''\n",
    "\n",
    "for x in range(1,100):\n",
    "    if(x %3==0 and x%2 ==0):\n",
    "        print(x,end = \",\")"
   ]
  },
  {
   "cell_type": "code",
   "execution_count": 4,
   "metadata": {},
   "outputs": [
    {
     "name": "stdout",
     "output_type": "stream",
     "text": [
      "Enter string to be reversed without vowel:  parth sharma is the best\n",
      "eeiaaa\n"
     ]
    }
   ],
   "source": [
    "#7. Write a program in Python to reverse a string and print only the vowel alphabet if exist in the string with their index.\n",
    "x=input(\"Enter string to be reversed without vowel:  \")\n",
    "string = x[::-1]\n",
    "def rem_vowel(string): \n",
    "    vowels = ('a', 'e', 'i', 'o', 'u')  \n",
    "    for x in string.lower(): \n",
    "        if x not in vowels: \n",
    "            string = string.replace(x, \"\") \n",
    "    print(string) \n",
    "    \n",
    "rem_vowel(string)\n",
    "    "
   ]
  },
  {
   "cell_type": "code",
   "execution_count": 6,
   "metadata": {},
   "outputs": [
    {
     "name": "stdout",
     "output_type": "stream",
     "text": [
      "my name is "
     ]
    }
   ],
   "source": [
    "#8. Write a program in Python to iterate through the string “hello my name is abcde” and \n",
    "#print the string which has even length of word.\n",
    "\n",
    "s ='hello my name is abcde'\n",
    "def evenWords(s):     \n",
    "    s = s.split(' ')          \n",
    "    for i in s:  \n",
    "        if len(i)%2==0: \n",
    "            print(i,end =\" \") \n",
    "evenWords(s)\n",
    "\n"
   ]
  },
  {
   "cell_type": "code",
   "execution_count": 2,
   "metadata": {},
   "outputs": [
    {
     "name": "stdout",
     "output_type": "stream",
     "text": [
      "pairs : 1 7\n",
      "pairs : 2 6\n",
      "pairs : 3 5\n",
      "pairs : 9 -1\n"
     ]
    }
   ],
   "source": [
    "#9. \tWrite a program in python to print the pair of numbers whose sum is equal to result number that is let's say 8\n",
    "x=[1,2,3,4,5,6,7,8,9,-1]\n",
    "n = len(x) \n",
    "sum = 8\n",
    "def numPairs(x, n, sum): \n",
    "    for i in range(0, n): \n",
    "        for j in range(i + 1, n): \n",
    "            if x[i] + x[j] == sum:   \n",
    "                print(\"pairs :\", x[i],x[j] )\n",
    "numPairs(x,n,sum)\n"
   ]
  },
  {
   "cell_type": "code",
   "execution_count": 4,
   "metadata": {},
   "outputs": [
    {
     "name": "stdout",
     "output_type": "stream",
     "text": [
      "Enter the number in the range of 1,50 \n",
      "1\n",
      "Enter the number in the range of 1,50 \n",
      "2\n",
      "Enter the number in the range of 1,50 \n",
      "3\n",
      "Enter the number in the range of 1,50 \n",
      "4\n",
      "Enter the number in the range of 1,50 \n",
      "5\n",
      "Enter the number in the range of 1,50 \n",
      "6\n",
      "Enter the number in the range of 1,50 \n",
      "7\n",
      "Enter the number in the range of 1,50 \n",
      "8\n",
      "Enter the number in the range of 1,50 \n",
      "7\n",
      "Enter the number in the range of 1,50 \n",
      "6\n",
      "sum of even = 26 \n",
      " sum of odd = 23 \n",
      " max of even = 8 \n",
      " max of odd = 7\n"
     ]
    }
   ],
   "source": [
    "'''10. \tWrite a program in Python to complete the following task:\n",
    "●\tCreate two different list as in even_list and odd_list\n",
    "●\tAsk user to enter the number in the range of 1,50 and make sure if the entered number is even append it to the even_list and if the entered number is odd append it to the odd list.\n",
    "●\tKeep that in mind you can only add 5 items in each list\n",
    "●\tMake sure once you entered the total 5 element calculate the sum of the list and return the maximum out of the list.\n",
    "'''\n",
    "even_list=[]\n",
    "odd_list=[]\n",
    "count=1\n",
    "count1=1\n",
    "while(count !=6 or count1 !=6):\n",
    "    x=int(input(\"Enter the number in the range of 1,50 \\n\"))\n",
    "    if x%2==0:\n",
    "        if count<=5:\n",
    "            if count==6:\n",
    "                pass\n",
    "            else:\n",
    "                even_list.append(x)\n",
    "                count+=1\n",
    "        else:\n",
    "            pass\n",
    "    else:\n",
    "        if count1<=5:\n",
    "            if count1==6:\n",
    "                pass\n",
    "            else:\n",
    "                odd_list.append(x)\n",
    "                count1+=1\n",
    "        else:\n",
    "            pass\n",
    "\n",
    "evensum= 0    \n",
    "for i in even_list:\n",
    "    evensum +=i\n",
    "oddsum= 0   \n",
    "for y in odd_list:\n",
    "    oddsum +=y\n",
    "\n",
    "    \n",
    "print(\"sum of even =\",evensum ,\"\\n sum of odd =\",oddsum, \"\\n max of even =\",max(even_list), \"\\n max of odd =\",max(odd_list))\n",
    "\n",
    "    \n",
    "    \n",
    "\n",
    "\n",
    "\n",
    "\n",
    "        \n",
    "    \n",
    "\n",
    "\n",
    "\n"
   ]
  },
  {
   "cell_type": "markdown",
   "metadata": {},
   "source": []
  },
  {
   "cell_type": "code",
   "execution_count": 11,
   "metadata": {},
   "outputs": [
    {
     "name": "stdout",
     "output_type": "stream",
     "text": [
      "enter string to check charactersdksjnfjbkvek22321dskfjkbsk1412\n",
      "The following dictionary consists frequency of each character\n",
      "{'d': 2, 'k': 6, 's': 3, 'j': 3, 'n': 1, 'f': 2, 'b': 2, 'v': 1, 'e': 1}\n"
     ]
    }
   ],
   "source": [
    "'''11.Write a program to find out the occurrence of a specific word from an alphanumeric statement. \n",
    "Example: 12abcbacbaba344ab  \n",
    "Output: a=5 b=5 c=2 make sure you should avoid the numbers in you logic'''\n",
    "string =input(\"enter string to check characters\")\n",
    "freq=dict()\n",
    "for i in string:\n",
    "    if((i >= 'A' and i <= 'Z') or (i >= 'a' and i <= 'z')): \n",
    "        if i not in freq:\n",
    "            freq[i]=1\n",
    "        else:\n",
    "            freq[i]=freq[i]+1\n",
    "    else:\n",
    "        pass\n",
    "\n",
    "print (\"The following dictionary consists frequency of each character:\")\n",
    "\n",
    "print (freq)\n",
    "\n"
   ]
  },
  {
   "cell_type": "code",
   "execution_count": 18,
   "metadata": {},
   "outputs": [
    {
     "name": "stdout",
     "output_type": "stream",
     "text": [
      "(2, 4, 6, 8, 10)\n"
     ]
    }
   ],
   "source": [
    "#12.Generate and print another tuple whose values are even numbers in the given tuple (1,2,3,4,5,6,7,8,9,10).\n",
    "\n",
    "t = (1,2,3,4,5,6,7,8,9,10)\n",
    "l = []\n",
    "for i in t:\n",
    "    if i%2 == 0:\n",
    "        l.append(i)\n",
    "\n",
    "t2 = tuple(l)\n",
    "print (t2)"
   ]
  },
  {
   "cell_type": "code",
   "execution_count": null,
   "metadata": {},
   "outputs": [],
   "source": []
  }
 ],
 "metadata": {
  "kernelspec": {
   "display_name": "Python 3",
   "language": "python",
   "name": "python3"
  },
  "language_info": {
   "codemirror_mode": {
    "name": "ipython",
    "version": 3
   },
   "file_extension": ".py",
   "mimetype": "text/x-python",
   "name": "python",
   "nbconvert_exporter": "python",
   "pygments_lexer": "ipython3",
   "version": "3.7.4"
  }
 },
 "nbformat": 4,
 "nbformat_minor": 2
}
