{
 "cells": [
  {
   "cell_type": "code",
   "execution_count": 6,
   "metadata": {},
   "outputs": [
    {
     "name": "stdout",
     "output_type": "stream",
     "text": [
      "dcba4321\n"
     ]
    }
   ],
   "source": [
    "'''1. \tWrite a program to reverse a string.\n",
    "Sample data: “1234abcd”\n",
    "Expected Output: “dcba4321”'''\n",
    "string = '1234abcd'\n",
    "n =len(string)\n",
    "print(string[n::-1])"
   ]
  },
  {
   "cell_type": "code",
   "execution_count": 2,
   "metadata": {},
   "outputs": [
    {
     "name": "stdout",
     "output_type": "stream",
     "text": [
      "enter stringesknnek2d elnwdjkde\n",
      "No. of Upper case characters :  0\n",
      "No. of Lower case Characters :  17\n"
     ]
    }
   ],
   "source": [
    "'''2. \tWrite a function that accepts a string and calculate the number of uppercase letters and lowercase letters.\n",
    "Expected Output:\n",
    "No. of Upper case characters : 3\n",
    "No. of Lower case Characters : 12'''\n",
    "\n",
    "def calculate(s):\n",
    "    d={\"Up\":0, \"l\":0}\n",
    "    for c in s:\n",
    "        if c.isupper():\n",
    "           d[\"Up\"]+=1\n",
    "        elif c.islower():\n",
    "           d[\"l\"]+=1\n",
    "        else:\n",
    "            pass\n",
    "    print (\"No. of Upper case characters : \", d[\"Up\"])\n",
    "    print (\"No. of Lower case Characters : \", d[\"l\"])\n",
    "    \n",
    "z = input(\"enter string\")\n",
    "calculate(z)"
   ]
  },
  {
   "cell_type": "code",
   "execution_count": 3,
   "metadata": {},
   "outputs": [
    {
     "name": "stdout",
     "output_type": "stream",
     "text": [
      "Enter any 10 elements1\n",
      "Enter any 10 elements2\n",
      "Enter any 10 elements3\n",
      "Enter any 10 elements4\n",
      "Enter any 10 elements5\n",
      "Enter any 10 elements6\n",
      "Enter any 10 elements5\n",
      "Enter any 10 elements4\n",
      "Enter any 10 elements3\n",
      "Enter any 10 elements2\n",
      "['4', '1', '6', '5', '2', '3']\n"
     ]
    }
   ],
   "source": [
    "#3.  Create a function that takes a list and returns a new list with unique elements of the first list.\n",
    "\n",
    "\n",
    "def uniquelist(l):\n",
    "    z = set(l)\n",
    "    d= list(z)\n",
    "    return d\n",
    "    \n",
    "    \n",
    "    \n",
    "\n",
    "l =[]\n",
    "for i in range(0,10):\n",
    "        \n",
    "    x=input(\"Enter any 10 elements\")\n",
    "    l.append(x)\n",
    "    \n",
    "print(uniquelist(l))\n",
    "    \n",
    "        \n",
    "    \n"
   ]
  },
  {
   "cell_type": "code",
   "execution_count": 4,
   "metadata": {},
   "outputs": [
    {
     "name": "stdout",
     "output_type": "stream",
     "text": [
      "nasnsjld-knsjadnkla-njbwvjncnd-jcdnkjwjxna-behvkbef-bjkcejwjb\n",
      "behvkbef-bjkcejwjb-jcdnkjwjxna-knsjadnkla-nasnsjld-njbwvjncnd\n"
     ]
    }
   ],
   "source": [
    "'''4.  Write a program that accepts a hyphen-separated sequence of words as input \n",
    "and prints the words in a hyphen-separated sequence after sorting them alphabetically.'''\n",
    "\n",
    "items=[i for i in input().split('-')]\n",
    "items.sort()\n",
    "print('-'.join(items))"
   ]
  },
  {
   "cell_type": "code",
   "execution_count": null,
   "metadata": {},
   "outputs": [
    {
     "name": "stdout",
     "output_type": "stream",
     "text": [
      "fdubef\n",
      "FDUBEF\n",
      "wjnfeub\n",
      "FDUBEF\n"
     ]
    }
   ],
   "source": [
    "'''5.  Write a program that accepts a sequence of lines as input and \n",
    "prints the lines after making all characters in the sentence capitalized.\n",
    "Sample input:\n",
    "Hello world\n",
    "Practice makes perfect\n",
    "Expected Output:\n",
    "HELLO WORLD\n",
    "PRACTICE MAKES PERFECT'''\n",
    "\n",
    "l = []\n",
    "while True:\n",
    "    li = input()\n",
    "    if li:\n",
    "        l.append(li.upper())\n",
    "        for li in l:\n",
    "            print(li)\n",
    "            break\n",
    "            \n",
    "    else:\n",
    "        break\n",
    "\n"
   ]
  },
  {
   "cell_type": "code",
   "execution_count": 1,
   "metadata": {},
   "outputs": [
    {
     "name": "stdout",
     "output_type": "stream",
     "text": [
      "Enter first number1\n",
      "Enter second number2\n",
      "3\n"
     ]
    }
   ],
   "source": [
    "'''6. Define a function that can receive two integral numbers in string form and compute their sum and print it in console.'''\n",
    "\n",
    "def sumstr():\n",
    "    a=int(input(\"Enter first number\"))\n",
    "    b=int(input(\"Enter second number\"))\n",
    "\n",
    "    print(a+b)\n",
    "\n",
    "sumstr()\n",
    "\n"
   ]
  },
  {
   "cell_type": "code",
   "execution_count": 3,
   "metadata": {},
   "outputs": [
    {
     "name": "stdout",
     "output_type": "stream",
     "text": [
      "Enter your first stringahh\n",
      "Enter your second stringahh\n",
      "ahh \n",
      " ahh\n"
     ]
    }
   ],
   "source": [
    "'''7.  Define a function that can accept two strings as input and print the string with maximum length in console.\n",
    "If two strings have the same length, then the function should print all strings line by line.'''\n",
    "\n",
    "def maxlen(a,b):\n",
    "    if (len(a)>len(b)):\n",
    "        print(a)\n",
    "    elif(len(a) == len(b)):\n",
    "        print(a,\"\\n\",b)\n",
    "    else:\n",
    "        print(b)\n",
    "\n",
    "a =input(\"Enter your first string \")\n",
    "b = input(\"Enter your second string \")\n",
    "maxlen(a,b)\n",
    "        \n",
    "        "
   ]
  },
  {
   "cell_type": "code",
   "execution_count": 9,
   "metadata": {},
   "outputs": [
    {
     "name": "stdout",
     "output_type": "stream",
     "text": [
      "(1, 4, 9, 16, 25, 36, 49, 64, 81, 100, 121, 144, 169, 196, 225, 256, 289, 324, 361, 400)\n"
     ]
    }
   ],
   "source": [
    "'''8. Define a function which can generate and print a tuple where the value are square of numbers between 1 and 20.'''\n",
    "def square(l):\n",
    "    t = tuple(l)        \n",
    "    print(t)\n",
    "l = list()\n",
    "for i in range(1,21):\n",
    "    l.append(i**2)       \n",
    "square(l)\n",
    "        \n",
    "\n",
    "    \n",
    " \n",
    "\n",
    "    \n",
    "    \n",
    "    \n",
    "    "
   ]
  },
  {
   "cell_type": "code",
   "execution_count": 11,
   "metadata": {},
   "outputs": [
    {
     "name": "stdout",
     "output_type": "stream",
     "text": [
      "Enter the limit3\n",
      "0  EVEN \n",
      "\n",
      "1  ODD \n",
      "\n",
      "2  EVEN \n",
      "\n",
      "3  ODD \n",
      "\n"
     ]
    }
   ],
   "source": [
    "'''Write a function called showNumbers that takes a parameter called limit. \n",
    "It should print all the numbers between 0 and limit with a label to identify the even and odd numbers. \n",
    "Example: If the limit is 3 , it should print:\n",
    "0 EVEN\n",
    "1 ODD\n",
    "2 EVEN\n",
    "3 ODD'''\n",
    "\n",
    "def limit(n):\n",
    "    for i in range(n+1):\n",
    "        if(i%2==0):\n",
    "            print(i, ' EVEN \\n')\n",
    "        else:\n",
    "            print(i, ' ODD \\n')\n",
    "\n",
    "n = int(input(\"Enter the limit\"))\n",
    "limit(n)\n",
    "\n",
    "\n"
   ]
  },
  {
   "cell_type": "code",
   "execution_count": 12,
   "metadata": {},
   "outputs": [
    {
     "name": "stdout",
     "output_type": "stream",
     "text": [
      "[2, 4, 6, 8, 10, 12, 14, 16, 18, 20]\n"
     ]
    }
   ],
   "source": [
    "#Write a program which can filter() to make a list whose elements are even number between 1 and 20 ( both included)\n",
    "\n",
    "\n",
    "l = [] \n",
    "for i in range(1,21):\n",
    "    l.append(i)\n",
    "  \n",
    "is_even = lambda x: x % 2 == 0\n",
    "  \n",
    "# using filter \n",
    "l2 = list(filter(is_even, l)) \n",
    "  \n",
    "# Printing output \n",
    "print(l2) "
   ]
  },
  {
   "cell_type": "code",
   "execution_count": 23,
   "metadata": {},
   "outputs": [
    {
     "name": "stdout",
     "output_type": "stream",
     "text": [
      "[4, 16, 36, 64, 100]\n"
     ]
    }
   ],
   "source": [
    "'''Write a program which can map() and filter() to make a list whose\n",
    "elements are square of even number in [1,2,3,4,5,6,7,8,9,10]\n",
    "Hints: Use map() to generate a list.\n",
    "     \t     Use filter() to filter elements of a list\n",
    "            Use lambda to define anonymous functions\n",
    "'''\n",
    "l = [1,2,3,4,5,6,7,8,9,10]\n",
    "eN = list(map(lambda x: x**2, filter(lambda x: x%2==0, li)))\n",
    "print (eN)"
   ]
  },
  {
   "cell_type": "code",
   "execution_count": 27,
   "metadata": {},
   "outputs": [
    {
     "name": "stdout",
     "output_type": "stream",
     "text": [
      "divide by zero error\n"
     ]
    }
   ],
   "source": [
    "'''Write a function to compute 5/0 and use try/except to catch the exceptions'''\n",
    "\n",
    "def check():\n",
    "    try:\n",
    "        print(5/0)\n",
    "    except:\n",
    "        print('divide by zero error')\n",
    "\n",
    "check()"
   ]
  },
  {
   "cell_type": "code",
   "execution_count": 33,
   "metadata": {},
   "outputs": [
    {
     "name": "stdout",
     "output_type": "stream",
     "text": [
      "[1, 2, 3, 4, 5, 6, 7, 8]\n",
      "12345678\n"
     ]
    }
   ],
   "source": [
    "'''Flatten the list [[1,2,3].,[4,5],[6,7,8]] into [1,2,3,4,5,6,7,8] using reduce\n",
    "Goal : Turn [1,2,3,4,5,6,7] to 1234567 \n",
    "'''\n",
    "from functools import reduce\n",
    "\n",
    "l = [[1, 2, 3], [4, 5], [6, 7, 8]]\n",
    "add = lambda x, y: x+y\n",
    "joinlist = reduce(add, l)\n",
    "\n",
    "print(joinlist)  # prints [1, 2, 3, 4, 5, 6, 7, 8]\n",
    "\n",
    "print(int(\"\".join(map(str, joinlist))))\n"
   ]
  },
  {
   "cell_type": "code",
   "execution_count": 34,
   "metadata": {},
   "outputs": [
    {
     "name": "stdout",
     "output_type": "stream",
     "text": [
      "2\n"
     ]
    }
   ],
   "source": [
    "def foo():\n",
    "    try:\n",
    "        return 1\n",
    "    finally:\n",
    "        return 2\n",
    "k = foo()\n",
    "print(k)\n"
   ]
  },
  {
   "cell_type": "code",
   "execution_count": 39,
   "metadata": {},
   "outputs": [
    {
     "name": "stdout",
     "output_type": "stream",
     "text": [
      "after f i am final\n"
     ]
    },
    {
     "ename": "NameError",
     "evalue": "name 'x' is not defined",
     "output_type": "error",
     "traceback": [
      "\u001b[1;31m---------------------------------------------------------------------------\u001b[0m",
      "\u001b[1;31mNameError\u001b[0m                                 Traceback (most recent call last)",
      "\u001b[1;32m<ipython-input-39-249afa6a02e3>\u001b[0m in \u001b[0;36m<module>\u001b[1;34m\u001b[0m\n\u001b[0;32m      5\u001b[0m         \u001b[0mprint\u001b[0m\u001b[1;33m(\u001b[0m\u001b[1;34m'after f i am final'\u001b[0m\u001b[1;33m)\u001b[0m\u001b[1;33m\u001b[0m\u001b[1;33m\u001b[0m\u001b[0m\n\u001b[0;32m      6\u001b[0m     \u001b[0mprint\u001b[0m\u001b[1;33m(\u001b[0m\u001b[1;34m'after f?'\u001b[0m\u001b[1;33m)\u001b[0m\u001b[1;33m\u001b[0m\u001b[1;33m\u001b[0m\u001b[0m\n\u001b[1;32m----> 7\u001b[1;33m \u001b[0ma\u001b[0m\u001b[1;33m(\u001b[0m\u001b[1;33m)\u001b[0m\u001b[1;33m\u001b[0m\u001b[1;33m\u001b[0m\u001b[0m\n\u001b[0m",
      "\u001b[1;32m<ipython-input-39-249afa6a02e3>\u001b[0m in \u001b[0;36ma\u001b[1;34m()\u001b[0m\n\u001b[0;32m      1\u001b[0m \u001b[1;32mdef\u001b[0m \u001b[0ma\u001b[0m\u001b[1;33m(\u001b[0m\u001b[1;33m)\u001b[0m\u001b[1;33m:\u001b[0m\u001b[1;33m\u001b[0m\u001b[1;33m\u001b[0m\u001b[0m\n\u001b[0;32m      2\u001b[0m     \u001b[1;32mtry\u001b[0m\u001b[1;33m:\u001b[0m\u001b[1;33m\u001b[0m\u001b[1;33m\u001b[0m\u001b[0m\n\u001b[1;32m----> 3\u001b[1;33m         \u001b[0mf\u001b[0m\u001b[1;33m(\u001b[0m\u001b[0mx\u001b[0m\u001b[1;33m,\u001b[0m \u001b[1;36m4\u001b[0m\u001b[1;33m)\u001b[0m\u001b[1;33m\u001b[0m\u001b[1;33m\u001b[0m\u001b[0m\n\u001b[0m\u001b[0;32m      4\u001b[0m     \u001b[1;32mfinally\u001b[0m\u001b[1;33m:\u001b[0m\u001b[1;33m\u001b[0m\u001b[1;33m\u001b[0m\u001b[0m\n\u001b[0;32m      5\u001b[0m         \u001b[0mprint\u001b[0m\u001b[1;33m(\u001b[0m\u001b[1;34m'after f i am final'\u001b[0m\u001b[1;33m)\u001b[0m\u001b[1;33m\u001b[0m\u001b[1;33m\u001b[0m\u001b[0m\n",
      "\u001b[1;31mNameError\u001b[0m: name 'x' is not defined"
     ]
    }
   ],
   "source": [
    "def a():\n",
    "    try:\n",
    "        f(x, 4)\n",
    "    finally:\n",
    "        print('after f i am final')\n",
    "    print('after f?')\n",
    "a()\n"
   ]
  },
  {
   "cell_type": "code",
   "execution_count": null,
   "metadata": {},
   "outputs": [],
   "source": []
  }
 ],
 "metadata": {
  "kernelspec": {
   "display_name": "Python 3",
   "language": "python",
   "name": "python3"
  },
  "language_info": {
   "codemirror_mode": {
    "name": "ipython",
    "version": 3
   },
   "file_extension": ".py",
   "mimetype": "text/x-python",
   "name": "python",
   "nbconvert_exporter": "python",
   "pygments_lexer": "ipython3",
   "version": "3.7.4"
  }
 },
 "nbformat": 4,
 "nbformat_minor": 2
}
