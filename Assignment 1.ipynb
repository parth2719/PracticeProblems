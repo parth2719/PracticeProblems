{
 "cells": [
  {
   "cell_type": "code",
   "execution_count": 13,
   "metadata": {},
   "outputs": [
    {
     "name": "stdout",
     "output_type": "stream",
     "text": [
      "10 10.5 Hello\n"
     ]
    }
   ],
   "source": [
    "'''1.\tCreate three variables in a single line and assign different values to them and make sure their data types are different.\n",
    "Like one is int, another one is float and the last one is a string.'''\n",
    "\n",
    "a,b,c = 10,10.5,\"Hello\"\n",
    "print(a,b,c)"
   ]
  },
  {
   "cell_type": "code",
   "execution_count": 12,
   "metadata": {},
   "outputs": [
    {
     "name": "stdout",
     "output_type": "stream",
     "text": [
      "val of a = (2+3j) val of b= 2\n",
      "val of a = 2 val of b= (2+3j)\n"
     ]
    }
   ],
   "source": [
    "#2.\tCreate a variable of value type complex and swap it with another variable whose value is an integer.\n",
    "\n",
    "a,b= complex(2,3),2\n",
    "print('val of a = '+str(a) +' val of b= '+ str(b)) \n",
    "a,b=b,a     #swapping\n",
    "print('val of a = '+str(a) +' val of b= '+ str(b))\n",
    "\n"
   ]
  },
  {
   "cell_type": "code",
   "execution_count": 29,
   "metadata": {},
   "outputs": [
    {
     "name": "stdout",
     "output_type": "stream",
     "text": [
      "a=2,b=5\n",
      "With third Variable a=5,b=2\n",
      "Without third Variable a=5,b=2\n"
     ]
    }
   ],
   "source": [
    "#Swap two numbers using the third variable as result name and do the same task without using any third variable.\n",
    "a,b = 2,5\n",
    "print ('a=' +str(a) +',b=' +str(b))\n",
    "def third_Var(a,b):\n",
    "    c=a\n",
    "    a=b\n",
    "    b=c\n",
    "    print ('With third Variable a=' +str(a) +',b=' +str(b))\n",
    "\n",
    "def No_Third_Var(a,b):\n",
    "    a,b=b,a\n",
    "    print ('Without third Variable a=' +str(a) +',b=' +str(b))\n",
    "    \n",
    "third_Var(a,b)\n",
    "a,b=2,5\n",
    "\n",
    "No_Third_Var(a,b)\n",
    "    \n",
    "    "
   ]
  },
  {
   "cell_type": "code",
   "execution_count": 34,
   "metadata": {},
   "outputs": [
    {
     "name": "stdout",
     "output_type": "stream",
     "text": [
      "Enter Value \n",
      "parth\n",
      "Value as a string in python 3.x Version: \n",
      "parth\n"
     ]
    }
   ],
   "source": [
    "#Write a program to print the value given by the user by using Python 3.x Version.\n",
    "a= input('Enter Value \\n')\n",
    "print(\"Value as a string in python 3.x Version: \\n\" + a)"
   ]
  },
  {
   "cell_type": "code",
   "execution_count": 8,
   "metadata": {},
   "outputs": [
    {
     "name": "stdout",
     "output_type": "stream",
     "text": [
      "enter any 2 numbers in between 1-10 \n",
      "1\n",
      "enter any 2 numbers in between 1-10 \n",
      "2\n",
      "Task 1: Value of z: 3\n",
      "Task 2: Value of z: 33\n"
     ]
    }
   ],
   "source": [
    "'''5. \tWrite a program to complete the task given below:\n",
    "●\tAsk the user to enter any 2 numbers in between 1-10 and add both of them to another variable call z.\n",
    "●\tUse z for adding 30 into it and print the final result by using variable result.'''\n",
    "\n",
    "try:\n",
    "    a = int(input('enter any 2 numbers in between 1-10 \\n' ))\n",
    "    b = int(input('enter any 2 numbers in between 1-10 \\n' ))\n",
    "    z = a+b\n",
    "    print(\"Task 1: Value of z: \" + str(z))\n",
    "    z+=30\n",
    "    print(\"Task 2: Value of z: \" + str(z))\n",
    "    \n",
    "except:\n",
    "    print('integer type is expected')\n",
    "    \n",
    "\n",
    "    \n"
   ]
  },
  {
   "cell_type": "code",
   "execution_count": 1,
   "metadata": {},
   "outputs": [
    {
     "name": "stdout",
     "output_type": "stream",
     "text": [
      "Test your entered value data type of : parth\n",
      "input is not a number. It's a string\n",
      "<class 'str'>\n"
     ]
    }
   ],
   "source": [
    "'''6. \tWrite a program to check the data type of the entered values.\n",
    "HINT: Printed output should say -  The input value data type is: int/float/string/etc'''\n",
    "\n",
    "a = input('Test your entered value data type of : ')\n",
    "try:\n",
    "    val = int(a)\n",
    "    print(\"Input is an integer type. Number = \", val)\n",
    "    print(type(val))\n",
    "except ValueError:\n",
    "    try:\n",
    "        val = float(a)\n",
    "        print(\"Input is a float type. Number = \", val)\n",
    "        print(type(val))\n",
    "    except ValueError:\n",
    "        print(\"input is not a number. It's a string\")\n",
    "        print(type(a))"
   ]
  },
  {
   "cell_type": "code",
   "execution_count": 2,
   "metadata": {},
   "outputs": [],
   "source": [
    "'''7.Create Variable using CamelCase, LadderCase and UPPERCASE. \n",
    "(Refer:   https://capitalizemytitle.com/camel-case/) - Variable Conventions to write'''\n",
    "#CamelCase\n",
    "HelloWorld =\"hello world\"\n",
    "#LadderCase\n",
    "helo_case =\"helo case\"\n",
    "\n",
    "#UPPERCASE\n",
    "HELLO= \"hello\"\n",
    "\n"
   ]
  },
  {
   "cell_type": "code",
   "execution_count": 26,
   "metadata": {},
   "outputs": [
    {
     "name": "stdout",
     "output_type": "stream",
     "text": [
      "10\n",
      "10.5\n",
      "hello\n"
     ]
    }
   ],
   "source": [
    "'''8. \tIf one data type value is assigned to ‘a’ variable and then a different data type value is assigned to ‘a’ again.\n",
    "Will it change the value. If Yes then Why?\n",
    "Answer:\n",
    "Yes, the value will change because the variable assigned is a reference to a memory location. \n",
    "The value can be overwritten at that particular memory location.\n",
    "Even,if the new value assigned to the variable is of different datatype as python works dynamically.\n",
    "Therefore,storage space is also dynamically allocated.\n",
    "For Example:\n",
    "'''\n",
    "a = 10\n",
    "print (a)\n",
    "a = 10.5\n",
    "print (a)\n",
    "a = 'hello'\n",
    "print (a)"
   ]
  },
  {
   "cell_type": "code",
   "execution_count": null,
   "metadata": {},
   "outputs": [],
   "source": []
  }
 ],
 "metadata": {
  "kernelspec": {
   "display_name": "Python 3",
   "language": "python",
   "name": "python3"
  },
  "language_info": {
   "codemirror_mode": {
    "name": "ipython",
    "version": 3
   },
   "file_extension": ".py",
   "mimetype": "text/x-python",
   "name": "python",
   "nbconvert_exporter": "python",
   "pygments_lexer": "ipython3",
   "version": "3.7.4"
  }
 },
 "nbformat": 4,
 "nbformat_minor": 2
}
