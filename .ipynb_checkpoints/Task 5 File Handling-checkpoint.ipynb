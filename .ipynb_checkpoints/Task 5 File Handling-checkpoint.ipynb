{
 "cells": [
  {
   "cell_type": "code",
   "execution_count": null,
   "metadata": {},
   "outputs": [],
   "source": [
    "'''1.\tWrite a program in Python to allow the error of syntax to go in exception. HINT: use SyntaxError\n",
    "2. \tWrite a program in Python to allow user to open a file by using argv module. If the entered name is incorrect throw an exception and ask them to enter the name again. Make sure to use read only mode. \n",
    "3. \tWrite a program to handle an error if the user entered the number more than four digits it should return “Please length is too short/long !!! Please provide only four digits” \n",
    "4. \tCreate a login page backend to ask user to enter the UserEmail and password. Make sure to ask Re-Type Password and if the password is incorrect give chance to enter it again but it should not be more than 3 times.\n",
    "5. \thttps://www.programiz.com/python-programming/exception-handling Go through this link to understand Finally and Raise concept.\n",
    "6. \tRead any file using Python File handling concept and return only the even length string from the doc.txt file.\n",
    "Consider the content as: \n",
    "\tHello I am a file \n",
    "\tWhere you need to return the data string \n",
    "\tWhich is of even length \n",
    "\tMake sure you return the content in \n",
    "\tThe same link as it is present.\n",
    "    '''\n"
   ]
  },
  {
   "cell_type": "code",
   "execution_count": 9,
   "metadata": {},
   "outputs": [
    {
     "name": "stdout",
     "output_type": "stream",
     "text": [
      "You have made a SyntaxError\n"
     ]
    }
   ],
   "source": [
    "#1.\tWrite a program in Python to allow the error of syntax to go in exception. HINT: use SyntaxError\n",
    "try:\n",
    "    print(trySynError)\n",
    "except:\n",
    "    print(\"You have made a SyntaxError\")"
   ]
  },
  {
   "cell_type": "code",
   "execution_count": 13,
   "metadata": {},
   "outputs": [
    {
     "ename": "ValueError",
     "evalue": "too many values to unpack (expected 2)",
     "output_type": "error",
     "traceback": [
      "\u001b[1;31m---------------------------------------------------------------------------\u001b[0m",
      "\u001b[1;31mValueError\u001b[0m                                Traceback (most recent call last)",
      "\u001b[1;32m<ipython-input-13-ab4575fced41>\u001b[0m in \u001b[0;36m<module>\u001b[1;34m\u001b[0m\n\u001b[0;32m      6\u001b[0m \u001b[1;32mfrom\u001b[0m \u001b[0msys\u001b[0m \u001b[1;32mimport\u001b[0m \u001b[0margv\u001b[0m\u001b[1;33m\u001b[0m\u001b[1;33m\u001b[0m\u001b[0m\n\u001b[0;32m      7\u001b[0m \u001b[1;33m\u001b[0m\u001b[0m\n\u001b[1;32m----> 8\u001b[1;33m \u001b[0mNamep\u001b[0m\u001b[1;33m,\u001b[0m\u001b[0mNameofFile\u001b[0m\u001b[1;33m=\u001b[0m \u001b[0margv\u001b[0m\u001b[1;33m\u001b[0m\u001b[1;33m\u001b[0m\u001b[0m\n\u001b[0m\u001b[0;32m      9\u001b[0m \u001b[1;33m\u001b[0m\u001b[0m\n\u001b[0;32m     10\u001b[0m \u001b[0mprint\u001b[0m\u001b[1;33m(\u001b[0m\u001b[1;34m\"The Name of File: \"\u001b[0m\u001b[1;33m,\u001b[0m \u001b[0mNameofFile\u001b[0m\u001b[1;33m)\u001b[0m\u001b[1;33m\u001b[0m\u001b[1;33m\u001b[0m\u001b[0m\n",
      "\u001b[1;31mValueError\u001b[0m: too many values to unpack (expected 2)"
     ]
    }
   ],
   "source": [
    "#2. \tWrite a program in Python to allow user to open a file by using argv module.\n",
    "#If the entered name is incorrect throw an exception and ask them to enter the name again.\n",
    "#Make sure to use read only mode.\n",
    "\n",
    "import os\n",
    "from sys import argv\n",
    "\n",
    "Namep,NameofFile= argv\n",
    "\n",
    "print(\"The Name of File: \", NameofFile)\n",
    "\n",
    "try:\n",
    "    while True:\n",
    "        f = open(NameofFile)\n",
    "        content = f.readline()\n",
    "        print (content)\n",
    "        f.close()\n",
    "        break\n",
    "\n",
    "except:\n",
    "    print(\"Name of the file is wrong\")\n",
    "    \n",
    "    \n",
    "\n"
   ]
  },
  {
   "cell_type": "code",
   "execution_count": 3,
   "metadata": {},
   "outputs": [
    {
     "name": "stdout",
     "output_type": "stream",
     "text": [
      "Enter number less than 4 digits: hv\n",
      "Please length is too short/long !!! Please provide only four digits\n"
     ]
    }
   ],
   "source": [
    "#3. Write a program to handle an error if the user entered the number more than four digits \n",
    "#it should return “Please length is too short/long !!! Please provide only four digits” \n",
    "\n",
    "try:\n",
    "    a = int(input(\"Enter number less than 4 digits: \"))\n",
    "    if a<1000:\n",
    "        print(a)\n",
    "    else:\n",
    "        dskn\n",
    "except:\n",
    "    print(\"Please length is too short/long !!! Please provide only four digits\")\n",
    "    "
   ]
  },
  {
   "cell_type": "code",
   "execution_count": 7,
   "metadata": {},
   "outputs": [
    {
     "name": "stdout",
     "output_type": "stream",
     "text": [
      "Enter Username : 1\n",
      "Enter Password : 1\n",
      "No problem!Trials remaining : 2\n",
      "Enter Password : 1\n",
      "No problem!Trials remaining : 1\n",
      "Enter Password : 1\n",
      "Sorry Try again later,No more Tries\n"
     ]
    }
   ],
   "source": [
    "#4. \tCreate a login page backend to ask user to enter the UserEmail and password. \n",
    "#Make sure to ask Re-Type Password and if the password is incorrect give chance to enter it again \n",
    "#but it should not be more than 3 times.\n",
    "\n",
    "user = input(\"Enter Username : \")\n",
    "\n",
    "\n",
    "count = 3\n",
    "actpass = \"I am the best\"    \n",
    "while(count>0):\n",
    "    passw = input(\"Enter Password : \")\n",
    "    if(count == 1):\n",
    "        print(\"Sorry Try again later,No more Tries\")\n",
    "        break\n",
    "    elif (passw == actpass):\n",
    "        print(\"Wohhoo!you are really the best!\")\n",
    "        break\n",
    "    \n",
    "    else:\n",
    "        print(\"No problem!Trials remaining : {}\" .format(count-1))\n",
    "        count -=1\n",
    "            \n",
    "\n",
    "            "
   ]
  },
  {
   "cell_type": "code",
   "execution_count": null,
   "metadata": {},
   "outputs": [],
   "source": [
    "'''5. \thttps://www.programiz.com/python-programming/exception-handling.\n",
    "    Go through this link to understand Finally and Raise concept.'''\n",
    "\n",
    "'''Raising Exceptions\n",
    "In Python programming, exceptions are raised when corresponding errors occur at run time, \n",
    "but we can forcefully raise it using the keyword raise.\n",
    "We can also optionally pass in value to the exception to clarify why that exception was raised.\n",
    "\n",
    ">>> raise KeyboardInterrupt\n",
    "Traceback (most recent call last):\n",
    "...\n",
    "KeyboardInterrupt\n",
    "\n",
    ">>> raise MemoryError(\"This is an argument\")\n",
    "Traceback (most recent call last):\n",
    "...\n",
    "MemoryError: This is an argument\n",
    "\n",
    ">>> try:\n",
    "...     a = int(input(\"Enter a positive integer: \"))\n",
    "...     if a <= 0:\n",
    "...         raise ValueError(\"That is not a positive number!\")\n",
    "... except ValueError as ve:\n",
    "...     print(ve)\n",
    "...    \n",
    "Enter a positive integer: -2\n",
    "That is not a positive number!'''\n",
    "\n",
    "\n",
    "\n",
    "'''try...finally\n",
    "The try statement in Python can have an optional finally clause.\n",
    "This clause is executed no matter what, and is generally used to release external resources.\n",
    "For example, we may be connected to a remote data center through the network or working \n",
    "with a file or working with a Graphical User Interface (GUI).\n",
    "In all these circumstances, we must clean up the resource once used,\n",
    "whether it was successful or not. These actions (closing a file, GUI or disconnecting from network) \n",
    "are performed in the finally clause to guarantee execution.\n",
    "Here is an example of file operations to illustrate this.\n",
    "\n",
    "try:\n",
    "   f = open(\"test.txt\",encoding = 'utf-8')\n",
    "   # perform file operations\n",
    "finally:\n",
    "   f.close()\n",
    "'''\n"
   ]
  },
  {
   "cell_type": "code",
   "execution_count": 1,
   "metadata": {},
   "outputs": [
    {
     "ename": "FileNotFoundError",
     "evalue": "[Errno 2] No such file or directory: 'evenfile.txt'",
     "output_type": "error",
     "traceback": [
      "\u001b[1;31m---------------------------------------------------------------------------\u001b[0m",
      "\u001b[1;31mFileNotFoundError\u001b[0m                         Traceback (most recent call last)",
      "\u001b[1;32m<ipython-input-1-80234125fe39>\u001b[0m in \u001b[0;36m<module>\u001b[1;34m\u001b[0m\n\u001b[0;32m     10\u001b[0m             \u001b[0mprint\u001b[0m\u001b[1;33m(\u001b[0m\u001b[0mword\u001b[0m\u001b[1;33m,\u001b[0m\u001b[0mend\u001b[0m \u001b[1;33m=\u001b[0m\u001b[1;34m\" \"\u001b[0m\u001b[1;33m)\u001b[0m\u001b[1;33m\u001b[0m\u001b[1;33m\u001b[0m\u001b[0m\n\u001b[0;32m     11\u001b[0m \u001b[1;33m\u001b[0m\u001b[0m\n\u001b[1;32m---> 12\u001b[1;33m \u001b[0mf\u001b[0m \u001b[1;33m=\u001b[0m \u001b[0mopen\u001b[0m \u001b[1;33m(\u001b[0m\u001b[1;34m\"evenfile.txt\"\u001b[0m\u001b[1;33m,\u001b[0m \u001b[1;34m\"r\"\u001b[0m\u001b[1;33m)\u001b[0m\u001b[1;33m\u001b[0m\u001b[1;33m\u001b[0m\u001b[0m\n\u001b[0m\u001b[0;32m     13\u001b[0m \u001b[1;33m\u001b[0m\u001b[0m\n\u001b[0;32m     14\u001b[0m \u001b[0mLine\u001b[0m \u001b[1;33m=\u001b[0m \u001b[0mf\u001b[0m\u001b[1;33m.\u001b[0m\u001b[0mreadlines\u001b[0m\u001b[1;33m(\u001b[0m\u001b[1;33m)\u001b[0m\u001b[1;33m\u001b[0m\u001b[1;33m\u001b[0m\u001b[0m\n",
      "\u001b[1;31mFileNotFoundError\u001b[0m: [Errno 2] No such file or directory: 'evenfile.txt'"
     ]
    }
   ],
   "source": [
    "'''6. \tRead any file using Python File handling concept and return only the even length string from the doc.txt file.\n",
    "Consider the content as: \n",
    "\tHello I am a file \n",
    "\tWhere you need to return the data string \n",
    "\tWhich is of even length \n",
    "\tMake sure you return the content in \n",
    "\tThe same link as it is present'''\n",
    "def evenstrings(s):      \n",
    "    # split the string  \n",
    "    s = s.split(' ')  \n",
    "      \n",
    "    # iterate in words of string  \n",
    "    for word in s:  \n",
    "          \n",
    "        # if length is even  \n",
    "        if len(word)%2==0: \n",
    "            print(word,end =\" \")  \n",
    "\n",
    "f = open (\"evenfile.txt\", \"r\")\n",
    "\n",
    "Line = f.readlines()\n",
    "print(Line ,\"\\n\")\n",
    "\n",
    "for s in Line:\n",
    "    evenstrings(s)\n",
    "\n",
    "f.close()"
   ]
  },
  {
   "cell_type": "code",
   "execution_count": null,
   "metadata": {},
   "outputs": [],
   "source": []
  }
 ],
 "metadata": {
  "kernelspec": {
   "display_name": "Python 3",
   "language": "python",
   "name": "python3"
  },
  "language_info": {
   "codemirror_mode": {
    "name": "ipython",
    "version": 3
   },
   "file_extension": ".py",
   "mimetype": "text/x-python",
   "name": "python",
   "nbconvert_exporter": "python",
   "pygments_lexer": "ipython3",
   "version": "3.7.4"
  }
 },
 "nbformat": 4,
 "nbformat_minor": 2
}
