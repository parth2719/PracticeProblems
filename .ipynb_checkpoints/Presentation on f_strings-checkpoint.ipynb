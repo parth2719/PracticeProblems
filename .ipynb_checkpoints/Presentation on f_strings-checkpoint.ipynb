{
 "cells": [
  {
   "cell_type": "code",
   "execution_count": 7,
   "metadata": {},
   "outputs": [
    {
     "name": "stdout",
     "output_type": "stream",
     "text": [
      "Parth is 23 years old\n"
     ]
    }
   ],
   "source": [
    "#Oldest option, classic string format specifies such as %s and %d.\n",
    "name = 'Parth'\n",
    "age = 23\n",
    "\n",
    "print('%s is %d years old' % (name, age))\n",
    "\n",
    "#his kind of formatting isn’t great because it is verbose and leads to errors,\n",
    "#like not displaying tuples or dictionaries correctly.\n"
   ]
  },
  {
   "cell_type": "code",
   "execution_count": 9,
   "metadata": {},
   "outputs": [
    {
     "name": "stdout",
     "output_type": "stream",
     "text": [
      "Parth is 23 years old\n"
     ]
    }
   ],
   "source": [
    "#Python 3.0, the format() function was introduced to provide advance formatting options.\n",
    "name = 'Parth'\n",
    "age = 23\n",
    "print('{} is {} years old'.format(name, age))\n",
    "\n",
    "\n",
    "#Able to pass objects and then reference parameters and methods in between the braces"
   ]
  },
  {
   "cell_type": "code",
   "execution_count": 10,
   "metadata": {},
   "outputs": [
    {
     "name": "stdout",
     "output_type": "stream",
     "text": [
      "Hello, Sachin. You are 23 years old.\n"
     ]
    }
   ],
   "source": [
    "#However,You have to use ** to do this neat trick with dictionaries:\n",
    "\n",
    "person = {'name': 'Sachin', 'age': 23}\n",
    "print(\"Hello, {name}. You are {age} years old.\".format(**person))\n"
   ]
  },
  {
   "cell_type": "code",
   "execution_count": 14,
   "metadata": {},
   "outputs": [
    {
     "name": "stdout",
     "output_type": "stream",
     "text": [
      "Hello, Eric Idle. You are 74. You are a comedian. You were a member of Monty Python.\n"
     ]
    }
   ],
   "source": [
    "#still verbose,right?\n",
    "\n",
    "first_name = \"Eric\"\n",
    "last_name = \"Idle\"\n",
    "age = 74\n",
    "profession = \"comedian\"\n",
    "affiliation = \"Monty Python\"\n",
    "print((\"Hello, {first_name} {last_name}. You are {age}. \" + \n",
    " \"You are a {profession}. You were a member of {affiliation}.\").format(first_name=first_name, last_name=last_name, age=age, profession=profession, affiliation=affiliation))\n",
    "\n",
    "\n",
    "#If you had the variables you wanted to pass to .format() in a dictionary,\n",
    "#then you could just unpack it with .format(**some_dict) and reference the values by key in the string"
   ]
  },
  {
   "cell_type": "code",
   "execution_count": 8,
   "metadata": {},
   "outputs": [
    {
     "name": "stdout",
     "output_type": "stream",
     "text": [
      "Parth is 23 years old\n"
     ]
    }
   ],
   "source": [
    "#Python f-strings are available since Python 3.6. The string has the f prefix and uses {} to evaluate variables.\n",
    "#The syntax is similar to the one you used with str.format() but less verbose\n",
    "name = 'Parth'\n",
    "age = 23\n",
    "print(f'{name} is {age} years old')"
   ]
  },
  {
   "cell_type": "code",
   "execution_count": 15,
   "metadata": {},
   "outputs": [
    {
     "data": {
      "text/plain": [
       "'74'"
      ]
     },
     "execution_count": 15,
     "metadata": {},
     "output_type": "execute_result"
    }
   ],
   "source": [
    "#Easy Evaluation\n",
    "f\"{2 * 37}\""
   ]
  },
  {
   "cell_type": "code",
   "execution_count": 28,
   "metadata": {},
   "outputs": [
    {
     "name": "stdout",
     "output_type": "stream",
     "text": [
      "i am smart.\n"
     ]
    },
    {
     "data": {
      "text/plain": [
       "'python is fun.'"
      ]
     },
     "execution_count": 28,
     "metadata": {},
     "output_type": "execute_result"
    }
   ],
   "source": [
    "#Use with Function\n",
    "\n",
    "def to_lowercase(input):\n",
    "    return input.lower()\n",
    "\n",
    "object1 = \"I am\"\n",
    "a = f\"{to_lowercase(object1)} smart.\"\n",
    "print(a)\n",
    "\n",
    "#calling a method directly:\n",
    "\n",
    "name = \"Python\"\n",
    "f\"{name.lower()} is fun.\"\n"
   ]
  },
  {
   "cell_type": "code",
   "execution_count": 30,
   "metadata": {},
   "outputs": [
    {
     "data": {
      "text/plain": [
       "'Sachin Srivastava is 23.'"
      ]
     },
     "execution_count": 30,
     "metadata": {},
     "output_type": "execute_result"
    }
   ],
   "source": [
    "# use in classes\n",
    "\n",
    "class Rep:\n",
    "    def __init__(self, first_name, last_name, age):\n",
    "        self.first_name = first_name\n",
    "        self.last_name = last_name\n",
    "        self.age = age\n",
    "\n",
    "    def __str__(self):\n",
    "        return f\"{self.first_name} {self.last_name} is {self.age}.\"\n",
    "\n",
    "    def __repr__(self):\n",
    "        return f\"{self.first_name} {self.last_name} is {self.age}. Surprise!\"\n",
    "    \n",
    "Rep1 = Rep(\"Sachin\", \"Srivastava\", \"23\")\n",
    "f\"{Rep1}\""
   ]
  },
  {
   "cell_type": "code",
   "execution_count": 5,
   "metadata": {},
   "outputs": [
    {
     "name": "stdout",
     "output_type": "stream",
     "text": [
      "Hi Parth. \n",
      " You are a Full Stack Developer. \n",
      "You work for Facebook. \n",
      "\n"
     ]
    }
   ],
   "source": [
    "#Multiline Example:\n",
    "\n",
    "name = \"Parth\"\n",
    "profession = \"Full Stack Developer\"\n",
    "affiliation = \"Facebook\"\n",
    "message = (\n",
    "    f\"Hi {name}. \\n \"\n",
    "    f\"You are a {profession}. \\n\"\n",
    "    f\"You work for {affiliation}. \\n\"\n",
    " )\n",
    "print(message)"
   ]
  },
  {
   "cell_type": "code",
   "execution_count": 6,
   "metadata": {},
   "outputs": [
    {
     "data": {
      "text/plain": [
       "'Hi Parth. You are a {profession}. You were in {affiliation}.'"
      ]
     },
     "execution_count": 6,
     "metadata": {},
     "output_type": "execute_result"
    }
   ],
   "source": [
    "'''\n",
    "CAUTION: Notice this\n",
    "'''\n",
    "\n",
    "message = (\n",
    "f\"Hi {name}. \"\n",
    "\"You are a {profession}. \"\n",
    "\"You work for {affiliation}.\"\n",
    ")\n",
    "\n",
    "message"
   ]
  },
  {
   "cell_type": "code",
   "execution_count": 8,
   "metadata": {},
   "outputs": [
    {
     "data": {
      "text/plain": [
       "'\\nHi Parth. \\nYou are a Full Stack Developer. \\nYou work for Facebook.\\n '"
      ]
     },
     "execution_count": 8,
     "metadata": {},
     "output_type": "execute_result"
    }
   ],
   "source": [
    "#Don't Try this as well\n",
    "message = f\"\"\"\n",
    "Hi {name}. \n",
    "You are a {profession}. \n",
    "You work for {affiliation}.\n",
    " \"\"\"\n",
    "message"
   ]
  },
  {
   "cell_type": "code",
   "execution_count": 9,
   "metadata": {},
   "outputs": [
    {
     "name": "stdout",
     "output_type": "stream",
     "text": [
      "{74} \n",
      " {74} \n",
      " {{74}}\n"
     ]
    }
   ],
   "source": [
    "a =  f\"{{74}}\"\n",
    "\n",
    "#Note that using triple braces will result in there being only single braces in your string:\n",
    "\n",
    "b = f\"{{{74}}}\"\n",
    "\n",
    "#However, you can get more braces to show if you use more than triple braces:\n",
    "\n",
    "c = f\"{{{{74}}}}\"\n",
    "\n",
    "print(a , \"\\n\", b, \"\\n\", c)\n"
   ]
  },
  {
   "cell_type": "code",
   "execution_count": 4,
   "metadata": {},
   "outputs": [
    {
     "name": "stdout",
     "output_type": "stream",
     "text": [
      "This was a 'great' film\n"
     ]
    }
   ],
   "source": [
    "# A single quote is escaped with a backslash character.\n",
    "name = \"great\"\n",
    "print(f'This was a \\'{name}\\' film')\n",
    "\n",
    "\n"
   ]
  },
  {
   "cell_type": "code",
   "execution_count": 5,
   "metadata": {},
   "outputs": [
    {
     "ename": "SyntaxError",
     "evalue": "f-string expression part cannot include a backslash (<ipython-input-5-6fd89960574c>, line 4)",
     "output_type": "error",
     "traceback": [
      "\u001b[1;36m  File \u001b[1;32m\"<ipython-input-5-6fd89960574c>\"\u001b[1;36m, line \u001b[1;32m4\u001b[0m\n\u001b[1;33m    f\"{\\\"Eric Idle\\\"}\"\u001b[0m\n\u001b[1;37m                      ^\u001b[0m\n\u001b[1;31mSyntaxError\u001b[0m\u001b[1;31m:\u001b[0m f-string expression part cannot include a backslash\n"
     ]
    }
   ],
   "source": [
    "#As you saw earlier, it is possible for you to use backslash escapes in the string portion of an f-string. \n",
    "#However, you can’t use backslashes to escape in the expression part of an f-string:\n",
    "\n",
    "f\"{\\\"Eric Idle\\\"}\""
   ]
  },
  {
   "cell_type": "code",
   "execution_count": 7,
   "metadata": {},
   "outputs": [
    {
     "name": "stdout",
     "output_type": "stream",
     "text": [
      "HEllo Python\n",
      "This was a 'HEllo Python' film\n"
     ]
    }
   ],
   "source": [
    "print(name)\n",
    "name = \"HEllo Python\"\n",
    "\n",
    "#But Remember\n",
    "\n",
    "print(f'This was a \\'{name}\\' film')\n",
    "name = \"great\""
   ]
  },
  {
   "cell_type": "code",
   "execution_count": null,
   "metadata": {},
   "outputs": [],
   "source": []
  }
 ],
 "metadata": {
  "kernelspec": {
   "display_name": "Python 3",
   "language": "python",
   "name": "python3"
  },
  "language_info": {
   "codemirror_mode": {
    "name": "ipython",
    "version": 3
   },
   "file_extension": ".py",
   "mimetype": "text/x-python",
   "name": "python",
   "nbconvert_exporter": "python",
   "pygments_lexer": "ipython3",
   "version": "3.7.4"
  }
 },
 "nbformat": 4,
 "nbformat_minor": 2
}
