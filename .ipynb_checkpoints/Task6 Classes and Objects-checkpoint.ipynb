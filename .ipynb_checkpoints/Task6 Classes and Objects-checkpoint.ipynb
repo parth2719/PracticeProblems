{
 "cells": [
  {
   "cell_type": "code",
   "execution_count": null,
   "metadata": {},
   "outputs": [],
   "source": [
    "'''1.\tWrite a program that calculates and prints the value according to the given formula:\n",
    "Q= Square root of [(2*C*D)/H]\n",
    "Following are the fixed values of C and H:\n",
    "C is 50. H is 30.\n",
    "D is the variable whose values should be input to your program in a comma-separated sequence.\n",
    "2.         Define a class named Shape and its subclass Square. The Square class has an init function which takes a length as argument. Both classes have an area function which can print the area of the shape where Shape’s area is 0 by default.\n",
    "3.          Create a class to find the three elements that sum to zero from a set of n real numbers.\n",
    "Input array: [-25,-10,-7,-3,2,4,8,10]\n",
    "Output: [[-10,2,8],[-7,-3,10]]\n",
    " \n",
    "4.          What is the output of the following code? Explain your answer as well.\n",
    "class Test:\n",
    "    def __init__(self):\n",
    "        self.x = 0\n",
    "class Derived_Test(Test):\n",
    "    def __init__(self):\n",
    "        self.y = 1\n",
    "def main():\n",
    "    b = Derived_Test()\n",
    "    print(b.x,b.y)\n",
    "main()\n",
    " \n",
    "class A:\n",
    "    def __init__(self, x= 1):\n",
    "        self.x = x\n",
    "class der(A):\n",
    "    def __init__(self,y = 2):\n",
    "        super().__init__()\n",
    "        self.y = y\n",
    "def main():\n",
    "    obj = der()\n",
    "    print(obj.x, obj.y)\n",
    "main())\n",
    " \n",
    "class A:\n",
    "    def __init__(self,x):\n",
    "        self.x = x\n",
    "    def count(self,x):\n",
    "        self.x = self.x+1\n",
    "class B(A):\n",
    "    def __init__(self, y=0):\n",
    "        A.__init__(self, 3)\n",
    "        self.y = y\n",
    "    def count(self):\n",
    "        self.y += 1     \n",
    "def main():\n",
    "    obj = B()\n",
    "    obj.count()\n",
    "    print(obj.x, obj.y)\n",
    "main()\n",
    " \n",
    " \n",
    " \n",
    "class A:\n",
    "    def __init__(self):\n",
    "        self.multiply(15)\n",
    "        print(self.i)\n",
    " \n",
    "    def multiply(self, i):\n",
    "        self.i = 4 * i;\n",
    "class B(A):\n",
    "    def __init__(self):\n",
    "        super().__init__()\n",
    " \n",
    "    def multiply(self, i):\n",
    "        self.i = 2 * i;\n",
    "obj = B()\n",
    " \n",
    "5.\tCreate a Time class and initialize it with hours and minutes.\n",
    "Make a method addTime which should take two time object and add them. E.g.- (2 hour and 50 min)+(1 hr and 20 min) is (4 hr and 10 min)\n",
    "Make a method displayTime which should print the time.\n",
    "Make a method DisplayMinute which should display the total minutes in the Time. E.g.- (1 hr 2 min) should display 62 minute.\n",
    "6.           Write a Person class with an instance variable, , and a constructor that takes an integer, , as a parameter. The constructor must assign  to  after confirming the argument passed as  is not negative; if a negative argument is passed as , the constructor should set  to  and print Age is not valid, setting age to 0.. In addition, you must write the following instance methods:\n",
    "yearPasses() should increase the  instance variable by .\n",
    "amIOld() should perform the following conditional actions:\n",
    "If , print You are young..\n",
    "If  and , print You are a teenager..\n",
    "Otherwise, print You are old..\t\n",
    "Sample Input:\n",
    "4\n",
    "-1\n",
    "10\n",
    "16\n",
    "18\n",
    "Sample Output:\n",
    "Age is not valid, setting age to 0.\n",
    "You are young.\n",
    "You are young.\n",
    " \n",
    "You are young.\n",
    "You are a teenager.\n",
    " \n",
    "You are a teenager.\n",
    "You are old.\n",
    " \n",
    "You are old.\n",
    "You are old.\n",
    "'''"
   ]
  },
  {
   "cell_type": "code",
   "execution_count": 36,
   "metadata": {},
   "outputs": [
    {
     "name": "stdout",
     "output_type": "stream",
     "text": [
      "Enter the values1\n",
      "[2]\n"
     ]
    }
   ],
   "source": [
    "'''1.Write a program that calculates and prints the value according to the given formula:\n",
    "Q= Square root of [(2*C*D)/H]\n",
    "Following are the fixed values of C and H:\n",
    "C is 50. H is 30.\n",
    "D is the variable whose values should be input to your program in a comma-separated sequence.'''\n",
    "import math\n",
    "a = []\n",
    "C = 50\n",
    "H = 30\n",
    "D =[int(x) for x in input(\"Enter the values\").split(\",\")]\n",
    "\n",
    "for i in range(0,len(D)):\n",
    "    Q = round(math.sqrt((2*C*D[i])/H))\n",
    "    a.append(Q)\n",
    "print(a)\n"
   ]
  },
  {
   "cell_type": "code",
   "execution_count": 40,
   "metadata": {},
   "outputs": [
    {
     "name": "stdout",
     "output_type": "stream",
     "text": [
      "9\n"
     ]
    }
   ],
   "source": [
    "'''2.  Define a class named Shape and its subclass Square. \n",
    "The Square class has an init function which takes a length as argument. \n",
    "Both classes have an area function which can print the area of the shape where Shape’s area is 0 by default.'''\n",
    "\n",
    "class Shape(object):\n",
    "    def __init__(self):\n",
    "        pass\n",
    "\n",
    "    def area(self):\n",
    "        return 0\n",
    "\n",
    "class Square(Shape):\n",
    "    def __init__(self, l):\n",
    "        Shape.__init__(self)\n",
    "        self.length = l\n",
    "\n",
    "    def area(self):\n",
    "        return self.length*self.length\n",
    "\n",
    "aSquare= Square(3)\n",
    "print (aSquare.area())\n",
    "    \n",
    "    \n"
   ]
  },
  {
   "cell_type": "code",
   "execution_count": 8,
   "metadata": {},
   "outputs": [
    {
     "name": "stdout",
     "output_type": "stream",
     "text": [
      "Enter the values-25,-10,-7,-3,2,4,8,10\n",
      "[[-10, 2, 8], [-7, -3, 10]]\n"
     ]
    }
   ],
   "source": [
    "#3.   Create a class to find the three elements that sum to zero from a set of n real numbers.\n",
    "D =[int(x) for x in input(\"Enter the values\").split(\",\")]\n",
    "class main:\n",
    "    def three_Sum(self, n):\n",
    "        n, ans, i = sorted(n), [], 0\n",
    "        while i < len(n) - 2:\n",
    "            j, k = i + 1, len(n) - 1\n",
    "            while j < k:\n",
    "                if n[i] + n[j] + n[k] < 0:\n",
    "                    j += 1\n",
    "                elif n[i] + n[j] + n[k] > 0:\n",
    "                    k -= 1\n",
    "                else:\n",
    "                    ans.append([n[i], n[j], n[k]])\n",
    "                    j, k = j + 1, k - 1\n",
    "                    while j < k and n[j] == n[j - 1]:\n",
    "                        j += 1\n",
    "                    while j < k and n[k] == n[k + 1]:\n",
    "                        k -= 1\n",
    "            i += 1\n",
    "            while i < len(n) - 2 and n[i] == n[i - 1]:\n",
    "                i += 1\n",
    "        return ans\n",
    "\n",
    "print(main().three_Sum(D))\n",
    "\n"
   ]
  },
  {
   "cell_type": "code",
   "execution_count": 2,
   "metadata": {},
   "outputs": [
    {
     "ename": "AttributeError",
     "evalue": "'Derived_Test' object has no attribute 'x'",
     "output_type": "error",
     "traceback": [
      "\u001b[1;31m---------------------------------------------------------------------------\u001b[0m",
      "\u001b[1;31mAttributeError\u001b[0m                            Traceback (most recent call last)",
      "\u001b[1;32m<ipython-input-2-1ea6aff43100>\u001b[0m in \u001b[0;36m<module>\u001b[1;34m\u001b[0m\n\u001b[0;32m     12\u001b[0m     \u001b[0mprint\u001b[0m\u001b[1;33m(\u001b[0m\u001b[0mb\u001b[0m\u001b[1;33m.\u001b[0m\u001b[0mx\u001b[0m\u001b[1;33m,\u001b[0m\u001b[0mb\u001b[0m\u001b[1;33m.\u001b[0m\u001b[0my\u001b[0m\u001b[1;33m)\u001b[0m\u001b[1;33m\u001b[0m\u001b[1;33m\u001b[0m\u001b[0m\n\u001b[0;32m     13\u001b[0m \u001b[1;33m\u001b[0m\u001b[0m\n\u001b[1;32m---> 14\u001b[1;33m \u001b[0mmain\u001b[0m\u001b[1;33m(\u001b[0m\u001b[1;33m)\u001b[0m\u001b[1;33m\u001b[0m\u001b[1;33m\u001b[0m\u001b[0m\n\u001b[0m\u001b[0;32m     15\u001b[0m \u001b[1;33m\u001b[0m\u001b[0m\n",
      "\u001b[1;32m<ipython-input-2-1ea6aff43100>\u001b[0m in \u001b[0;36mmain\u001b[1;34m()\u001b[0m\n\u001b[0;32m     10\u001b[0m \u001b[1;32mdef\u001b[0m \u001b[0mmain\u001b[0m\u001b[1;33m(\u001b[0m\u001b[1;33m)\u001b[0m\u001b[1;33m:\u001b[0m\u001b[1;33m\u001b[0m\u001b[1;33m\u001b[0m\u001b[0m\n\u001b[0;32m     11\u001b[0m     \u001b[0mb\u001b[0m \u001b[1;33m=\u001b[0m \u001b[0mDerived_Test\u001b[0m\u001b[1;33m(\u001b[0m\u001b[1;33m)\u001b[0m\u001b[1;33m\u001b[0m\u001b[1;33m\u001b[0m\u001b[0m\n\u001b[1;32m---> 12\u001b[1;33m     \u001b[0mprint\u001b[0m\u001b[1;33m(\u001b[0m\u001b[0mb\u001b[0m\u001b[1;33m.\u001b[0m\u001b[0mx\u001b[0m\u001b[1;33m,\u001b[0m\u001b[0mb\u001b[0m\u001b[1;33m.\u001b[0m\u001b[0my\u001b[0m\u001b[1;33m)\u001b[0m\u001b[1;33m\u001b[0m\u001b[1;33m\u001b[0m\u001b[0m\n\u001b[0m\u001b[0;32m     13\u001b[0m \u001b[1;33m\u001b[0m\u001b[0m\n\u001b[0;32m     14\u001b[0m \u001b[0mmain\u001b[0m\u001b[1;33m(\u001b[0m\u001b[1;33m)\u001b[0m\u001b[1;33m\u001b[0m\u001b[1;33m\u001b[0m\u001b[0m\n",
      "\u001b[1;31mAttributeError\u001b[0m: 'Derived_Test' object has no attribute 'x'"
     ]
    }
   ],
   "source": [
    "#4. What is the output of the following code? Explain your answer as well.\n",
    "class Test:\n",
    "    def __init__(self):\n",
    "        self.x = 0\n",
    "        \n",
    "class Derived_Test(Test):\n",
    "    def __init__(self):\n",
    "        self.y = 1\n",
    "\n",
    "def main():\n",
    "    b = Derived_Test()\n",
    "    print(b.x,b.y)\n",
    "\n",
    "main()\n",
    "\n"
   ]
  },
  {
   "cell_type": "code",
   "execution_count": 3,
   "metadata": {},
   "outputs": [
    {
     "name": "stdout",
     "output_type": "stream",
     "text": [
      "1 2\n"
     ]
    }
   ],
   "source": [
    "class A:\n",
    "    def __init__(self, x= 1):\n",
    "        self.x = x\n",
    "class der(A):\n",
    "    def __init__(self,y = 2):\n",
    "        super().__init__()\n",
    "        self.y = y\n",
    "def main():\n",
    "    obj = der()\n",
    "    print(obj.x, obj.y)\n",
    "main()"
   ]
  },
  {
   "cell_type": "code",
   "execution_count": 4,
   "metadata": {},
   "outputs": [
    {
     "name": "stdout",
     "output_type": "stream",
     "text": [
      "3 1\n"
     ]
    }
   ],
   "source": [
    "class A:\n",
    "    def __init__(self,x):\n",
    "        self.x = x\n",
    "    def count(self,x):\n",
    "        self.x = self.x+1\n",
    "class B(A):\n",
    "    def __init__(self, y=0):\n",
    "        A.__init__(self, 3)\n",
    "        self.y = y\n",
    "    def count(self):\n",
    "        self.y += 1     \n",
    "def main():\n",
    "    obj = B()\n",
    "    obj.count()\n",
    "    print(obj.x, obj.y)\n",
    "main()"
   ]
  },
  {
   "cell_type": "code",
   "execution_count": 5,
   "metadata": {},
   "outputs": [
    {
     "name": "stdout",
     "output_type": "stream",
     "text": [
      "30\n"
     ]
    }
   ],
   "source": [
    "class A:\n",
    "    def __init__(self):\n",
    "        self.multiply(15)\n",
    "        print(self.i)\n",
    " \n",
    "    def multiply(self, i):\n",
    "        self.i = 4 * i;\n",
    "class B(A):\n",
    "    def __init__(self):\n",
    "        super().__init__()\n",
    " \n",
    "    def multiply(self, i):\n",
    "        self.i = 2 * i;\n",
    "obj = B()"
   ]
  },
  {
   "cell_type": "code",
   "execution_count": 14,
   "metadata": {},
   "outputs": [
    {
     "name": "stdout",
     "output_type": "stream",
     "text": [
      "Time is 4.166666666666667 hours and 0.0 minutes.\n",
      "250.00000000000003\n"
     ]
    }
   ],
   "source": [
    "''' 5.\tCreate a Time class and initialize it with hours and minutes.\n",
    "Make a method addTime which should take two time object and add them. \n",
    "E.g.- (2 hour and 50 min)+(1 hr and 20 min) is (4 hr and 10 min)\n",
    "Make a method displayTime which should print the time.\n",
    "Make a method DisplayMinute which should display the total minutes in the Time. E.g.- (1 hr 2 min) should display 62 minute.'''\n",
    "\n",
    "class Time():\n",
    "\n",
    "    def __init__(self, hours, mins):\n",
    "        self.hours = hours\n",
    "        self.mins = mins\n",
    "\n",
    "    def addTime(t1, t2):\n",
    "        t3 = Time(0,0)\n",
    "        if t1.mins+t2.mins > 60:\n",
    "        t3.hours = (t1.mins+t2.mins)/60\n",
    "        t3.hours = t3.hours+t1.hours+t2.hours\n",
    "        t3.mins = (t1.mins+t2.mins)-(((t1.mins+t2.mins)/60)*60)\n",
    "        return t3\n",
    "\n",
    "    def displayTime(self):\n",
    "        print (\"Time is\",self.hours,\"hours and\",self.mins,\"minutes.\")\n",
    "\n",
    "    def displayMinute(self):\n",
    "        print ((self.hours*60)+self.mins)\n",
    "\n",
    "a = Time(2,50)\n",
    "b = Time(1,20)\n",
    "c = Time.addTime(a,b)\n",
    "c.displayTime()\n",
    "c.displayMinute()\n"
   ]
  },
  {
   "cell_type": "code",
   "execution_count": 3,
   "metadata": {},
   "outputs": [
    {
     "name": "stdout",
     "output_type": "stream",
     "text": [
      "5\n",
      "17\n",
      "You are a teenager.\n",
      "You are old.\n",
      "\n",
      "19\n",
      "You are old.\n",
      "You are old.\n",
      "\n",
      "12\n",
      "You are young.\n",
      "You are a teenager.\n",
      "\n",
      "1\n",
      "You are young.\n",
      "You are young.\n",
      "\n",
      "100\n",
      "You are old.\n",
      "You are old.\n",
      "\n"
     ]
    }
   ],
   "source": [
    "'''6. Write a Person class with an instance variable, , and a constructor that takes an integer, , as a parameter.\n",
    "The constructor must assign  to  after confirming the argument passed as  is not negative; if a negative argument is passed as , the constructor should set  to  and print Age is not valid, setting age to 0.. In addition, you must write the following instance methods:\n",
    "yearPasses() should increase the  instance variable by .\n",
    "amIOld() should perform the following conditional actions:\n",
    "If , print You are young..\n",
    "If  and , print You are a teenager..\n",
    "Otherwise, print You are old..\t\n",
    "Sample Input:\n",
    "4\n",
    "-1\n",
    "10\n",
    "16\n",
    "18\n",
    "Sample Output:\n",
    "Age is not valid, setting age to 0.\n",
    "You are young.\n",
    "You are young.\n",
    " \n",
    "You are young.\n",
    "You are a teenager.\n",
    " \n",
    "You are a teenager.\n",
    "You are old.\n",
    " \n",
    "You are old.\n",
    "You are old'''\n",
    "\n",
    "\n",
    "class Person:\n",
    "\n",
    "    def __init__(self, age):\n",
    "        self.age = age if age >= 0 else 0\n",
    "        if age < 0:\n",
    "            print(\"Age is not valid, setting age to 0.\")\n",
    "\n",
    "    def amIOld(self):\n",
    "        if self.age < 13:\n",
    "            print(\"You are young.\")\n",
    "        elif self.age < 18:\n",
    "            print(\"You are a teenager.\")\n",
    "        else:\n",
    "            print(\"You are old.\")\n",
    "\n",
    "    def yearPasses(self):\n",
    "        self.age += 1\n",
    "        return self.age\n",
    "\n",
    "t = int(input())\n",
    "for i in range(0, t):\n",
    "    age = int(input())\n",
    "    p = Person(age)\n",
    "    p.amIOld()\n",
    "    for j in range(0, 3):\n",
    "        p.yearPasses()\n",
    "    p.amIOld()\n",
    "    print(\"\")\n"
   ]
  }
 ],
 "metadata": {
  "kernelspec": {
   "display_name": "Python 3",
   "language": "python",
   "name": "python3"
  },
  "language_info": {
   "codemirror_mode": {
    "name": "ipython",
    "version": 3
   },
   "file_extension": ".py",
   "mimetype": "text/x-python",
   "name": "python",
   "nbconvert_exporter": "python",
   "pygments_lexer": "ipython3",
   "version": "3.7.4"
  }
 },
 "nbformat": 4,
 "nbformat_minor": 2
}
