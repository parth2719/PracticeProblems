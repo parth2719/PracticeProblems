{
 "cells": [
  {
   "cell_type": "code",
   "execution_count": null,
   "metadata": {},
   "outputs": [],
   "source": [
    "'''TASK FOUR: HIGHER ORDER FUNCTIONS, GENERATORS, LIST COMPREHENSION AND DECORATOR\n",
    "1.\tWrite a program to Python find the values which is not divisible 3 but is should be a multiple of 7. Make sure to use only higher order function.\n",
    "2. \tWrite a program in Python to  multiple the element of list by itself using traditional function and pass the function to map to complete the operation.\n",
    "3. \tWrite a program to Python find out the character in a string which is uppercase using list comprehension.\n",
    "4. \tWrite a program to construct a dictionary from the two lists containing the names of students and their corresponding subjects. The dictionary should maps the students with their respective subjects. Let’s see how to do this using for loops and dictionary comprehension. HINT-Use Zip function also\n",
    "Student = ['Smit', 'Jaya', 'Rayyan']\n",
    "capital = ['CSE', 'Networking', 'Operating System']\n",
    "5. \tLearn More about Yield, next and Generators\n",
    "6. \tWrite a program in Python using generators to reverse the string. Input String = “Consultadd Training”\n",
    "7. \tWrite any example on decorators.\n",
    "8. \tLearn about What is FRONT END and its Technologies and Tools\n",
    "Make sure to mention at least 5 top notch technologies of Frontend.\n",
    "Also mentioned the name of companies using those 5 technologies individually'''\n"
   ]
  },
  {
   "cell_type": "code",
   "execution_count": 4,
   "metadata": {},
   "outputs": [
    {
     "name": "stdout",
     "output_type": "stream",
     "text": [
      "[7, 14, 28]\n"
     ]
    }
   ],
   "source": [
    "#1.Write a program to Python find the values which is not divisible 3 but is should be a multiple of 7. \n",
    "#Make sure to use only higher order function.\n",
    "l = [i for i in range(30) if i %3 != 0 and i % 7==0 ]\n",
    "print(l)"
   ]
  },
  {
   "cell_type": "code",
   "execution_count": 8,
   "metadata": {},
   "outputs": [
    {
     "name": "stdout",
     "output_type": "stream",
     "text": [
      "[0, 1, 4, 9, 16]\n"
     ]
    }
   ],
   "source": [
    "#2.Write a program in Python to  multiple the element of list by itself \n",
    "#using traditional function and pass the function to map to complete the operation.\n",
    "def mult(a):\n",
    "    return a*a\n",
    "l = [i for i in range(5)]\n",
    "z = list(map(mult,l))\n",
    "print(z)"
   ]
  },
  {
   "cell_type": "code",
   "execution_count": 18,
   "metadata": {},
   "outputs": [
    {
     "name": "stdout",
     "output_type": "stream",
     "text": [
      "['H', 'H', 'M', 'N']\n"
     ]
    }
   ],
   "source": [
    "#3. Write a program to Python find out the character in a string which is uppercase using list comprehension.\n",
    "\n",
    "string =\"Healthy food Healthy MiNd\"\n",
    "\n",
    "o = [i for i in string if i.isupper()]\n",
    "print(o) \n",
    "    \n"
   ]
  },
  {
   "cell_type": "code",
   "execution_count": 24,
   "metadata": {},
   "outputs": [
    {
     "name": "stdout",
     "output_type": "stream",
     "text": [
      "{'Smit': 'CSE', 'Jaya': 'Networking', 'Rayyan': 'Operating System'}\n"
     ]
    }
   ],
   "source": [
    "#4. \tWrite a program to construct a dictionary from the two lists containing the names of students \n",
    "#and their corresponding subjects. The dictionary should map the students with their respective subjects. \n",
    "#Let’s see how to do this using for loops and dictionary comprehension. HINT-Use Zip function also\n",
    "#Student = ['Smit', 'Jaya', 'Rayyan']\n",
    "#capital = ['CSE', 'Networking', 'Operating System']\n",
    "\n",
    "student = ['Smit', 'Jaya', 'Rayyan']\n",
    "capital = ['CSE', 'Networking', 'Operating System']\n",
    "\n",
    "dic = dict(zip(student,capital))\n",
    "    \n",
    "print(dic)\n",
    "\n",
    "\n"
   ]
  },
  {
   "cell_type": "code",
   "execution_count": 32,
   "metadata": {},
   "outputs": [
    {
     "name": "stdout",
     "output_type": "stream",
     "text": [
      "0\n",
      "1\n",
      "2\n",
      "3\n"
     ]
    }
   ],
   "source": [
    "#5. \tLearn More about Yield, next and Generators\n",
    "\n",
    "def gen(a):    \n",
    "    for i in range(a):\n",
    "        yield(i)\n",
    "\n",
    "res =gen(5)\n",
    "print(next(res))\n",
    "print(next(res))\n",
    "print(next(res))\n",
    "print(next(res))\n",
    "\n",
    "        \n"
   ]
  },
  {
   "cell_type": "code",
   "execution_count": 10,
   "metadata": {},
   "outputs": [
    {
     "name": "stdout",
     "output_type": "stream",
     "text": [
      "How generator works: \n",
      "\n",
      "g\n",
      "gn\n",
      "gni\n",
      "gnin\n",
      "gnini\n",
      "gninia\n",
      "gniniar\n",
      "gniniarT\n",
      "gniniarT \n",
      "gniniarT d\n",
      "gniniarT dd\n",
      "gniniarT dda\n",
      "gniniarT ddat\n",
      "gniniarT ddatl\n",
      "gniniarT ddatlu\n",
      "gniniarT ddatlus\n",
      "gniniarT ddatlusn\n",
      "gniniarT ddatlusno\n",
      "gniniarT ddatlusnoC\n"
     ]
    }
   ],
   "source": [
    "#Write a program in Python using generators to reverse the string. Input String = “Consultadd Training”\n",
    "\n",
    "\n",
    "def reverse(str1):\n",
    "    rstr1 = ''\n",
    "    n= len(str1)\n",
    "    while n > 0:\n",
    "        rstr1 += str1[ n - 1 ]\n",
    "        n = n - 1\n",
    "        yield(rstr1) \n",
    "    \n",
    "res =reverse('Consultadd Training')\n",
    "print(\"How generator works: \\n\")\n",
    "for i in range(19):\n",
    "    print(next(res))\n",
    "\n"
   ]
  },
  {
   "cell_type": "code",
   "execution_count": 1,
   "metadata": {},
   "outputs": [
    {
     "ename": "NameError",
     "evalue": "name 'gfg_decorator' is not defined",
     "output_type": "error",
     "traceback": [
      "\u001b[1;31m---------------------------------------------------------------------------\u001b[0m",
      "\u001b[1;31mNameError\u001b[0m                                 Traceback (most recent call last)",
      "\u001b[1;32m<ipython-input-1-5a032effc32f>\u001b[0m in \u001b[0;36m<module>\u001b[1;34m\u001b[0m\n\u001b[0;32m      9\u001b[0m \u001b[1;31m#Syntax for Decorator:\u001b[0m\u001b[1;33m\u001b[0m\u001b[1;33m\u001b[0m\u001b[1;33m\u001b[0m\u001b[0m\n\u001b[0;32m     10\u001b[0m \u001b[1;33m\u001b[0m\u001b[0m\n\u001b[1;32m---> 11\u001b[1;33m \u001b[1;33m@\u001b[0m\u001b[0mgfg_decorator\u001b[0m\u001b[1;33m\u001b[0m\u001b[1;33m\u001b[0m\u001b[0m\n\u001b[0m\u001b[0;32m     12\u001b[0m \u001b[1;32mdef\u001b[0m \u001b[0mhello_decorator\u001b[0m\u001b[1;33m(\u001b[0m\u001b[1;33m)\u001b[0m\u001b[1;33m:\u001b[0m\u001b[1;33m\u001b[0m\u001b[1;33m\u001b[0m\u001b[0m\n\u001b[0;32m     13\u001b[0m     \u001b[0mprint\u001b[0m\u001b[1;33m(\u001b[0m\u001b[1;34m\"Gfg\"\u001b[0m\u001b[1;33m)\u001b[0m\u001b[1;33m\u001b[0m\u001b[1;33m\u001b[0m\u001b[0m\n",
      "\u001b[1;31mNameError\u001b[0m: name 'gfg_decorator' is not defined"
     ]
    }
   ],
   "source": [
    "#7.Write any example on decorators.\n",
    "'''Reference:-Geekforgeeks.com\n",
    "Decorators are very powerful and useful tool in Python since it allows programmers to modify the behavior of function or class. Decorators allow us to wrap another function in order to extend the behavior of wrapped function, without permanently modifying it.\n",
    "\n",
    "In Decorators, functions are taken as the argument into another function and then called inside the wrapper function.\n",
    "\n",
    "\n",
    "'''\n",
    "#Syntax for Decorator:\n",
    "\n",
    "@gfg_decorator\n",
    "def hello_decorator(): \n",
    "    print(\"Gfg\") \n",
    "  \n"
   ]
  },
  {
   "cell_type": "code",
   "execution_count": null,
   "metadata": {},
   "outputs": [],
   "source": [
    "'''\n",
    "8.Learn about What is FRONT END and its Technologies and Tools\n",
    "Make sure to mention at least 5 top notch technologies of Frontend.\n",
    "Also mentioned the name of companies using those 5 technologies individually'''\n",
    "\n",
    "\n",
    "'''1. AngularJS\n",
    "AngularJS development\n",
    "\n",
    "Being a product of Google, AngularJS is acknowledged as one of the most important front end web development tools. \n",
    "Further, it is an open-source web application framework that helps to extend the HTML syntax easily. \n",
    "On the whole, AngularJS provides a readable, accessible and expressive environment that simplifies the\n",
    "front-end development process.\n",
    "\n",
    "Key features:\n",
    "\n",
    "It is open-source and free, which is used by thousands of developers across the world.\n",
    "It allows for creating feature-rich web applications.\n",
    "Enables to create client-side applications using JavaScript with MVC.\n",
    "It can automatically handle JavaScript code that is suitable for every browser.\n",
    "\n",
    "\n",
    "2. jQuery\n",
    "Jquery development\n",
    "\n",
    "jQuery is one of the popular JavaScript libraries which is widely used for front-end development.\n",
    "This amazing library enables developers to focus on the functionality of different aspects. \n",
    "With this JavaScript library, things become very easy like HTML document manipulation, traversal, and Ajax.\n",
    "\n",
    "Key features:\n",
    "\n",
    "jQuery UI enables to build highly interactive web applications.\n",
    "It is free and open-source.\n",
    "It offers a powerful theme mechanism.\n",
    "Supports different web browsers.\n",
    "Stable and easy to maintain.\n",
    "Helps creating great documentation.\n",
    "It is a fast, small and cross-platform JavaScript library.\n",
    "Want to Hire a Front-End Development Expert?\n",
    "Contact Us\n",
    "\n",
    "\n",
    "3. Npm\n",
    "NPM Tool\n",
    "\n",
    "It is a node package manager for JavaScript. NPM helps to find packages and \n",
    "reuse codes from thousands of developers and collect them in powerful ways. \n",
    "NPM is managed by command-line and is an easy and fast way to build web apps.\n",
    "There is a whole lot of things you can do with NPM scripts including pulling new packages, updating old ones and more.\n",
    "\n",
    "Key features:\n",
    "\n",
    "You can find thousands of free code packages in the Registry to be reused in project.\n",
    "It promotes discovery of codes and reuse them within teams.\n",
    "Control and publish access to namespace.\n",
    "Allows managing both the private and public code from a single workflow.\n",
    "\n",
    "\n",
    "4. Twitter Bootstrap\n",
    "Twitter-bootstrap\n",
    "\n",
    "It is one of the most popular front-end web development tools which is widely used around the world.\n",
    "Bootstrap is a reputed framework that developers use to create client-side coding and build appealing front ends. \n",
    "And, UI frameworks like Bootstrap provides an abstraction of the common development elements into reusable modules, \n",
    "which means developers can create the elements of applications speedily and easily. \n",
    "Moreover, it can cut down the time and code needed to create your applications.\n",
    "\n",
    "Key features:\n",
    "\n",
    "It is a comprehensive UI package.\n",
    "Tools to normalize stylesheets.\n",
    "Provides JavaScript plugins.\n",
    "Builds modal objects.\n",
    "\n",
    "5. VueJS\n",
    "VueJS Development\n",
    "\n",
    "It is one of the most enjoyable JavaScript frameworks to learn which is useful for building\n",
    "top-notch user interfaces and single-page applications. Being quite easy to setup, \n",
    "you can quickly build simple applications with this framework. Using this JavaScript library,\n",
    "you can create attractive UI for your applications.\n",
    "\n",
    "Key features:\n",
    "\n",
    "Vue.js is a stable progressive JavaScript framework.\n",
    "Easy to understand and learn.\n",
    "Flexible and simple.\n",
    "It uses MVVM architecture.\n",
    "It provides extensive documentation.\n",
    "You can use it to develop simple as well as complex applications.\n",
    "Provides several ways for using transition effects.'''\n"
   ]
  }
 ],
 "metadata": {
  "kernelspec": {
   "display_name": "Python 3",
   "language": "python",
   "name": "python3"
  },
  "language_info": {
   "codemirror_mode": {
    "name": "ipython",
    "version": 3
   },
   "file_extension": ".py",
   "mimetype": "text/x-python",
   "name": "python",
   "nbconvert_exporter": "python",
   "pygments_lexer": "ipython3",
   "version": "3.7.4"
  }
 },
 "nbformat": 4,
 "nbformat_minor": 2
}
