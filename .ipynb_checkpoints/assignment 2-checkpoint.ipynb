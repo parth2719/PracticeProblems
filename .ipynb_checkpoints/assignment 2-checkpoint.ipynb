{
 "cells": [
  {
   "cell_type": "code",
   "execution_count": 11,
   "metadata": {},
   "outputs": [
    {
     "name": "stdout",
     "output_type": "stream",
     "text": [
      "Enter number5\n",
      "c\n"
     ]
    }
   ],
   "source": [
    "'''1.\tWrite a program in Python to perform the following operation:\n",
    "●\tIf a number is divisible by 3 it should print “Consultadd” as a string\n",
    "●\tIf a number is divisible by 5 it should print “c” as a string\n",
    "●\tIf a number is divisible by both 3 and 5 it should print “Consultadd Python Training” as a string.'''\n",
    "\n",
    "x = int(input('Enter number'))\n",
    "\n",
    "if (x%3==0 and x%5==0):\n",
    "    print('Consultadd Python Training')\n",
    "elif x%3 == 0:\n",
    "    print(\"Consultadd\")\n",
    "elif x%5 == 0:\n",
    "    print('c')\n",
    "else:\n",
    "    print(\"Nothing\")\n"
   ]
  },
  {
   "cell_type": "code",
   "execution_count": 13,
   "metadata": {},
   "outputs": [
    {
     "name": "stdout",
     "output_type": "stream",
     "text": [
      "Enter any operation:+,-,/,*, average-\n",
      "Enter First Number: 1\n",
      "Enter Second Number: -5\n",
      "your entered operation-\n",
      "1 - -5 : 6\n"
     ]
    }
   ],
   "source": [
    "'''2. \tWrite a program in Python to perform the following operator based task:\n",
    "●\tAsk user to choose the following option first:\n",
    "○\tIf User Enter 1 - Addition \n",
    "○\tIf User Enter 2 - Subtraction\n",
    "○\tIf User Enter 3 - Division\n",
    "○\tIf USer Enter 4 - Multiplication\n",
    "○\tIf User Enter 5 - Average\n",
    "●\tAsk user to enter the 2 numbers in a variable for first and second for the first 4 options mentioned above.\n",
    "●\tAsk user to enter two more numbers as first1 and second2 for calculating the average as soon as user choose an option 5.\n",
    "●\tAt the end if the answer of any operation is Negative print a statement saying “zsa”\n",
    "●\tNOTE: At a time user can perform one action at a time.'''\n",
    "\n",
    "op = input(\"Enter any operation:+,-,/,*, average\")\n",
    "num1 = int(input(\"Enter First Number: \"))\n",
    "num2 = int(input(\"Enter Second Number: \"))\n",
    "\n",
    "print(\"your entered operation\" + str(op))\n",
    "\n",
    "\n",
    "result = 0\n",
    "if op == '+':\n",
    "    result = num1 + num2\n",
    "elif op == '-':\n",
    "    result = num1 - num2\n",
    "elif op == '*':\n",
    "    result = num1 * num2\n",
    "elif op == '/':\n",
    "    result = num1 / num2\n",
    "elif op =='average':\n",
    "    num3 = int(input(\"Enter third Number: \"))\n",
    "    num4 = int(input(\"Enter fourht Number: \"))\n",
    "    result = ((num1 + num2 +num3 + num4)/4)\n",
    "    \n",
    "    \n",
    "else:\n",
    "    print(\"Input operation is not recognized!\")\n",
    "\n",
    "\n",
    "if op == 'average':\n",
    "    if result >=0:\n",
    "        print( num1,num2,num3,num4,op , \":\", result)\n",
    "    else:\n",
    "        print(\"zsa\")\n",
    "else:\n",
    "    if result >=0:\n",
    "        print( num1, op, num2 , \":\", result)\n",
    "    else:\n",
    "        print(\"zsa\")\n",
    "\n"
   ]
  },
  {
   "cell_type": "markdown",
   "metadata": {},
   "source": [
    "###### "
   ]
  },
  {
   "cell_type": "code",
   "execution_count": 23,
   "metadata": {},
   "outputs": [
    {
     "name": "stdout",
     "output_type": "stream",
     "text": [
      "avg = 6.666666666666667\n",
      "avg is just higher than b\n"
     ]
    }
   ],
   "source": [
    "#3. \tWrite a program in Python to implement the given flowchart:\n",
    "a,b,c =10,20,30\n",
    "avg =(a+b+c)/3\n",
    "print('avg =',avg)\n",
    "if (avg > a and avg >b and avg >c) :\n",
    "    print('avg is higher than a,b,c')\n",
    "else:\n",
    "    if(avg > a and avg >b):\n",
    "        print('avg is higher than a,b,c')\n",
    "    elif(avg > a and avg >c):\n",
    "        print('avg is higher than a,c')\n",
    "    elif(avg > b and avg >c):\n",
    "        print('avg is higher than b,c')\n",
    "    elif(avg>a):\n",
    "        print('avg is just higher than a')\n",
    "    elif(avg>b):\n",
    "        print('avg is just higher than b')\n",
    "    elif(avg>c):\n",
    "        print('avg is just higher than c')\n",
    "    else:\n",
    "        pass\n",
    "\n"
   ]
  },
  {
   "cell_type": "code",
   "execution_count": 27,
   "metadata": {},
   "outputs": [
    {
     "name": "stdout",
     "output_type": "stream",
     "text": [
      "enter your number10\n",
      "Good Going\n",
      "enter your number10\n",
      "Good Going\n",
      "enter your number2\n",
      "Good Going\n",
      "enter your number3\n",
      "Good Going\n",
      "enter your number4\n",
      "Good Going\n",
      "enter your number5\n",
      "Good Going\n",
      "enter your number-1\n",
      "It’s Over\n"
     ]
    }
   ],
   "source": [
    "'''4. \tWrite a program in Python to break and continue if the following cases occurs:\n",
    "●\tIf user enters a negative number just break the loop and print “It’s Over”\n",
    "●\tIf user enters a positive number just continue in the loop and print “Good Going” '''\n",
    "\n",
    "\n",
    "for i in range(10):\n",
    "    a = int(input(\"enter your number\"))\n",
    "    if a<0:\n",
    "        print('It’s Over')\n",
    "        break\n",
    "    else:\n",
    "        print('Good Going')\n",
    "        continue\n",
    "        \n",
    "    \n",
    "\n"
   ]
  },
  {
   "cell_type": "code",
   "execution_count": 2,
   "metadata": {},
   "outputs": [
    {
     "name": "stdout",
     "output_type": "stream",
     "text": [
      "2002\n",
      "2009\n",
      "2016\n",
      "2023\n",
      "2037\n",
      "2044\n",
      "2051\n",
      "2058\n",
      "2072\n",
      "2079\n",
      "2086\n",
      "2093\n",
      "2107\n",
      "2114\n",
      "2121\n",
      "2128\n",
      "2142\n",
      "2149\n",
      "2156\n",
      "2163\n",
      "2177\n",
      "2184\n",
      "2191\n",
      "2198\n",
      "2212\n",
      "2219\n",
      "2226\n",
      "2233\n",
      "2247\n",
      "2254\n",
      "2261\n",
      "2268\n",
      "2282\n",
      "2289\n",
      "2296\n",
      "2303\n",
      "2317\n",
      "2324\n",
      "2331\n",
      "2338\n",
      "2352\n",
      "2359\n",
      "2366\n",
      "2373\n",
      "2387\n",
      "2394\n",
      "2401\n",
      "2408\n",
      "2422\n",
      "2429\n",
      "2436\n",
      "2443\n",
      "2457\n",
      "2464\n",
      "2471\n",
      "2478\n",
      "2492\n",
      "2499\n",
      "2506\n",
      "2513\n",
      "2527\n",
      "2534\n",
      "2541\n",
      "2548\n",
      "2562\n",
      "2569\n",
      "2576\n",
      "2583\n",
      "2597\n",
      "2604\n",
      "2611\n",
      "2618\n",
      "2632\n",
      "2639\n",
      "2646\n",
      "2653\n",
      "2667\n",
      "2674\n",
      "2681\n",
      "2688\n",
      "2702\n",
      "2709\n",
      "2716\n",
      "2723\n",
      "2737\n",
      "2744\n",
      "2751\n",
      "2758\n",
      "2772\n",
      "2779\n",
      "2786\n",
      "2793\n",
      "2807\n",
      "2814\n",
      "2821\n",
      "2828\n",
      "2842\n",
      "2849\n",
      "2856\n",
      "2863\n",
      "2877\n",
      "2884\n",
      "2891\n",
      "2898\n",
      "2912\n",
      "2919\n",
      "2926\n",
      "2933\n",
      "2947\n",
      "2954\n",
      "2961\n",
      "2968\n",
      "2982\n",
      "2989\n",
      "2996\n",
      "3003\n",
      "3017\n",
      "3024\n",
      "3031\n",
      "3038\n",
      "3052\n",
      "3059\n",
      "3066\n",
      "3073\n",
      "3087\n",
      "3094\n",
      "3101\n",
      "3108\n",
      "3122\n",
      "3129\n",
      "3136\n",
      "3143\n",
      "3157\n",
      "3164\n",
      "3171\n",
      "3178\n",
      "3192\n",
      "3199\n"
     ]
    }
   ],
   "source": [
    "'''5.   Write a program in Python which will find all such numbers which are divisible  \n",
    "by 7 but are not a multiple of 5, between 2000 and 3200.'''\n",
    "\n",
    "for i in range(2000,3200):\n",
    "        if i% 7 ==0 and i% 5!= 0:\n",
    "            print(i)\n",
    "\n"
   ]
  },
  {
   "cell_type": "code",
   "execution_count": 12,
   "metadata": {},
   "outputs": [
    {
     "ename": "TypeError",
     "evalue": "'int' object is not iterable",
     "output_type": "error",
     "traceback": [
      "\u001b[1;31m---------------------------------------------------------------------------\u001b[0m",
      "\u001b[1;31mTypeError\u001b[0m                                 Traceback (most recent call last)",
      "\u001b[1;32m<ipython-input-12-46cde715c10c>\u001b[0m in \u001b[0;36m<module>\u001b[1;34m\u001b[0m\n\u001b[0;32m      1\u001b[0m \u001b[1;31m#6a\u001b[0m\u001b[1;33m\u001b[0m\u001b[1;33m\u001b[0m\u001b[1;33m\u001b[0m\u001b[0m\n\u001b[0;32m      2\u001b[0m \u001b[0mx\u001b[0m\u001b[1;33m=\u001b[0m\u001b[1;36m123\u001b[0m\u001b[1;33m\u001b[0m\u001b[1;33m\u001b[0m\u001b[0m\n\u001b[1;32m----> 3\u001b[1;33m \u001b[1;32mfor\u001b[0m \u001b[0mi\u001b[0m \u001b[1;32min\u001b[0m \u001b[0mx\u001b[0m\u001b[1;33m:\u001b[0m\u001b[1;33m\u001b[0m\u001b[1;33m\u001b[0m\u001b[0m\n\u001b[0m\u001b[0;32m      4\u001b[0m     \u001b[0mprint\u001b[0m\u001b[1;33m(\u001b[0m\u001b[0mi\u001b[0m\u001b[1;33m)\u001b[0m\u001b[1;33m\u001b[0m\u001b[1;33m\u001b[0m\u001b[0m\n",
      "\u001b[1;31mTypeError\u001b[0m: 'int' object is not iterable"
     ]
    }
   ],
   "source": [
    "#6a\n",
    "x=123 \n",
    "for i in x:\n",
    "    print(i)\n"
   ]
  },
  {
   "cell_type": "code",
   "execution_count": 8,
   "metadata": {},
   "outputs": [
    {
     "name": "stdout",
     "output_type": "stream",
     "text": [
      "0\n",
      "1\n",
      "2\n"
     ]
    }
   ],
   "source": [
    "#6B\n",
    "i = 0\n",
    "while i < 5:\n",
    "    print(i)\n",
    "    i += 1\n",
    "    if i == 3:\n",
    "        break\n",
    "else:\n",
    "    print('error')\n"
   ]
  },
  {
   "cell_type": "code",
   "execution_count": 10,
   "metadata": {},
   "outputs": [
    {
     "name": "stdout",
     "output_type": "stream",
     "text": [
      "0\n",
      "1\n",
      "2\n",
      "3\n",
      "4\n"
     ]
    }
   ],
   "source": [
    "#6C\n",
    "count = 0\n",
    "while True:\n",
    "    print(count)\n",
    "    count += 1\n",
    "    if count >= 5:\n",
    "        break\n"
   ]
  },
  {
   "cell_type": "code",
   "execution_count": 6,
   "metadata": {},
   "outputs": [
    {
     "name": "stdout",
     "output_type": "stream",
     "text": [
      "0 1 2 4 5 "
     ]
    }
   ],
   "source": [
    "'''7. Write a program that prints all the numbers from 0 to 6 except 3 and 6.\n",
    "       Expected output: 0 1 2 4 5\n",
    "Note: Use ‘continue’ statement'''\n",
    "for i in range (7):\n",
    "    if i ==3:\n",
    "        continue\n",
    "    if i ==6:\n",
    "        continue\n",
    "    else:\n",
    "        print(i,end =\" \")\n",
    "    \n",
    "\n"
   ]
  },
  {
   "cell_type": "code",
   "execution_count": 2,
   "metadata": {},
   "outputs": [
    {
     "name": "stdout",
     "output_type": "stream",
     "text": [
      "Enter your stringconsul12\n",
      "Letters 6\n",
      "Digits 2\n"
     ]
    }
   ],
   "source": [
    "'''8.  Write a program that accepts a string as an input from user and calculate the number of digits and letters.\n",
    "     Expected output: consul12\n",
    "     Letters 6\n",
    "     Digits 2'''\n",
    "\n",
    "a = input('Enter your string')\n",
    "digits=letters=0\n",
    "for c in a:\n",
    "    if c.isdigit():\n",
    "        digits+=1\n",
    "    elif c.isalpha():\n",
    "        letters+=1\n",
    "    else:\n",
    "        pass\n",
    "print(\"Letters\", letters)\n",
    "print(\"Digits\", digits)\n",
    "\n"
   ]
  },
  {
   "cell_type": "code",
   "execution_count": 1,
   "metadata": {},
   "outputs": [
    {
     "name": "stdout",
     "output_type": "stream",
     "text": [
      "Guess the number 1\n",
      "Try harder!use yo brain\n",
      "Guess the number 2\n",
      "Try harder!use yo brain\n",
      "Guess the number 3\n",
      "Try harder!use yo brain\n",
      "Guess the number 10\n",
      "You are the man!\n"
     ]
    }
   ],
   "source": [
    "'''9. Read the two parts of the question below: \n",
    "●\t Write a program such that it asks users to “guess the lucky number”. \n",
    "If the correct number is guessed the program stops, otherwise it continues forever. '''\n",
    "\n",
    "a = 10\n",
    "while(True):\n",
    "    b =int(input('Guess the number '))\n",
    "    if b ==a:\n",
    "        print(\"You are the man!\")\n",
    "        break\n",
    "    else:\n",
    "        print(\"Try harder!use yo brain\")\n",
    "        continue\n",
    "    \n"
   ]
  },
  {
   "cell_type": "code",
   "execution_count": 1,
   "metadata": {},
   "outputs": [
    {
     "name": "stdout",
     "output_type": "stream",
     "text": [
      "Guess the number 1\n",
      "Try harder!use yo brain\n",
      "wanna guess more? yes,no \n",
      "2\n",
      "We think you still wanna play, play the game!\n",
      "Guess the number 10\n",
      "You are the man!\n"
     ]
    }
   ],
   "source": [
    "'''●\tModify the program so that it asks users whether they want to guess again each time. \n",
    "Use two variables, ‘number’ for the number and ‘answer’ for the answer to the question whether they want to continue guessing. \n",
    "The program stops if the user guesses the correct number or answers “no”. \n",
    "( The program continues as long as a user has not answered “no” and has not guessed the correct number)'''\n",
    "\n",
    "a = 10\n",
    "while(True):\n",
    "    b =int(input('Guess the number '))\n",
    "    if b ==a:\n",
    "        print(\"You are the man!\")\n",
    "        break\n",
    "    else:\n",
    "        print(\"Try harder!use yo brain\")\n",
    "        c = input(\"wanna guess more? yes,no \\n\")\n",
    "        if c == 'no':\n",
    "            break\n",
    "        else:\n",
    "            print('We think you still wanna play, play the game!')\n",
    "            continue\n",
    "       \n"
   ]
  },
  {
   "cell_type": "code",
   "execution_count": 5,
   "metadata": {},
   "outputs": [
    {
     "name": "stdout",
     "output_type": "stream",
     "text": [
      "Guess the number 1\n",
      "1 Try again\n",
      "Guess the number 2\n",
      "2 Try again\n",
      "Guess the number 3\n",
      "3 Try again\n",
      "Guess the number 4\n",
      "4 Try again\n",
      "Guess the number 5\n",
      "5 Try again\n"
     ]
    }
   ],
   "source": [
    "'''Write a program that asks five times to guess the lucky number. Use a while loop and a counter, such as\n",
    "           \t\tcounter=1\n",
    "\t\tWhile counter <= 5:\n",
    "\t\t\tprint(“Type in the”, counter, “number”\n",
    "\t\t\tcounter=counter+1\n",
    "The program asks for five guesses (no matter whether the correct number was guessed or not). \n",
    "If the correct number is guessed, the program outputs “Good guess!”, otherwise it outputs “Try again!”. \n",
    "After the fifth guess it stops and prints “Game over!”.'''\n",
    "a = 10\n",
    "counter = 1\n",
    "while(counter <6):\n",
    "    b =int(input('Guess the number '))\n",
    "    if b ==a:\n",
    "        print(counter,\"Good guess!\")\n",
    "        counter+= 1\n",
    "        continue\n",
    "    else:\n",
    "        print(counter,\"Try again\")\n",
    "        counter+= 1\n",
    "        continue\n",
    "        \n"
   ]
  },
  {
   "cell_type": "code",
   "execution_count": 6,
   "metadata": {},
   "outputs": [
    {
     "name": "stdout",
     "output_type": "stream",
     "text": [
      "Guess the number 1\n",
      "1 Sorry but that was not very successful\n",
      "Guess the number 2\n",
      "2 Sorry but that was not very successful\n",
      "Guess the number 10\n",
      "3 Good guess!\n"
     ]
    }
   ],
   "source": [
    "'''11. In the previous question, insert “break” after the “Good guess!” print statement.\n",
    "“break” will terminate the while loop so that users do not have to continue guessing after they found the number.\n",
    "If the user does not guess the number at all, print “Sorry but that was not very successful”.'''\n",
    "a = 10\n",
    "counter = 1\n",
    "while(counter <6):\n",
    "    b =int(input('Guess the number '))\n",
    "    if b ==a:\n",
    "        print(counter,\"Good guess!\")\n",
    "        counter+= 1\n",
    "        break\n",
    "    else:\n",
    "        print(counter,\"Sorry but that was not very successful\")\n",
    "        counter+= 1\n",
    "        continue"
   ]
  },
  {
   "cell_type": "code",
   "execution_count": null,
   "metadata": {},
   "outputs": [],
   "source": []
  }
 ],
 "metadata": {
  "kernelspec": {
   "display_name": "Python 3",
   "language": "python",
   "name": "python3"
  },
  "language_info": {
   "codemirror_mode": {
    "name": "ipython",
    "version": 3
   },
   "file_extension": ".py",
   "mimetype": "text/x-python",
   "name": "python",
   "nbconvert_exporter": "python",
   "pygments_lexer": "ipython3",
   "version": "3.7.4"
  }
 },
 "nbformat": 4,
 "nbformat_minor": 2
}
