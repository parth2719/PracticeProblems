{
 "cells": [
  {
   "cell_type": "code",
   "execution_count": 2,
   "metadata": {},
   "outputs": [
    {
     "name": "stdout",
     "output_type": "stream",
     "text": [
      "['Start', 20, 'hello', (2+3j), 2.4, 3.2, (9+8j), 1, 'Yes', 'End']\n"
     ]
    }
   ],
   "source": [
    "'''1.\tCreate a list of the 10 elements of four different types of Data Type like int, string, complex and float.'''\n",
    "l = ['Start',20,\"hello\",complex(2,3),2.4,3.2,complex(9,8),1,'Yes','End']\n",
    "print(l)\n"
   ]
  },
  {
   "cell_type": "code",
   "execution_count": 5,
   "metadata": {},
   "outputs": [
    {
     "name": "stdout",
     "output_type": "stream",
     "text": [
      "[1, 2, 3, 4, 5]\n",
      "[1, 2, 3]\n",
      "[4, 5]\n"
     ]
    }
   ],
   "source": [
    "#Create a list of size 5 and execute the slicing structure \n",
    "li = [1,2,3,4,5]\n",
    "print(li[:])\n",
    "print(li[:3])\n",
    "print(li[3:])"
   ]
  },
  {
   "cell_type": "code",
   "execution_count": 8,
   "metadata": {},
   "outputs": [
    {
     "name": "stdout",
     "output_type": "stream",
     "text": [
      "12 40\n"
     ]
    }
   ],
   "source": [
    "#3.  Write a program to get the sum and multiply of all the items in a given list.\n",
    "lis = [1,2,4 ,5]\n",
    "add,mult=0,1\n",
    "for i in lis:\n",
    "    add+=i\n",
    "    mult*=i\n",
    "    \n",
    "print (add,mult)"
   ]
  },
  {
   "cell_type": "code",
   "execution_count": 9,
   "metadata": {},
   "outputs": [
    {
     "name": "stdout",
     "output_type": "stream",
     "text": [
      "Please enter the Total Number of List Elements: 2\n",
      "Please enter the Value of 1 Element : 2\n",
      "Please enter the Value of 2 Element : 9\n",
      "The Smallest Element 2\n",
      "The Largest Element in this List is :  9\n"
     ]
    }
   ],
   "source": [
    "#4.   \tFind the largest and smallest number from a given list.\n",
    "List = []\n",
    "Num = int(input(\"Please enter the Total Number of List Elements: \"))\n",
    "for i in range(1, Num + 1):\n",
    "    val = int(input(\"Please enter the Value of %d Element : \" %i))\n",
    "    List.append(val)\n",
    "\n",
    "print(\"The Smallest Element\", min(List))\n",
    "print(\"The Largest Element in this List is : \", max(List))"
   ]
  },
  {
   "cell_type": "code",
   "execution_count": 11,
   "metadata": {},
   "outputs": [
    {
     "name": "stdout",
     "output_type": "stream",
     "text": [
      "[1, 3, 5, 65, 13, 3, 321, 345, 3]\n"
     ]
    }
   ],
   "source": [
    "#5. \tCreate a new list which contains the specified numbers after removing the even numbers from a predefined list. \n",
    "a = [1,2,3,4,5,65,2,13,4,3,24,321,345,3]\n",
    "b = [x for x in a if x%2!=0]\n",
    "print(b)\n"
   ]
  },
  {
   "cell_type": "code",
   "execution_count": 14,
   "metadata": {},
   "outputs": [
    {
     "name": "stdout",
     "output_type": "stream",
     "text": [
      "[1, 4, 9, 16, 25]\n",
      "[676, 729, 784, 841, 900]\n"
     ]
    }
   ],
   "source": [
    "#6.\tCreate a list of first and last 5 elements where the values are square of numbers between 1 and 30 (both included).\n",
    "\n",
    "l = []\n",
    "for i in range(1,31):\n",
    "    l.append(i**2)\n",
    "print(l[:5])\n",
    "print(l[-5:])\n",
    "\n"
   ]
  },
  {
   "cell_type": "code",
   "execution_count": 15,
   "metadata": {},
   "outputs": [
    {
     "name": "stdout",
     "output_type": "stream",
     "text": [
      "[1, 3, 5, 7, 9, 2, 4, 6, 8]\n"
     ]
    }
   ],
   "source": [
    "'''7.\tWrite a program to replace the last element in a list with another list.\n",
    "Sample data: [[1,3,5,7,9,10],[2,4,6,8]]\n",
    "Expected output: [1,3,5,7,9,2,4,6,8]'''\n",
    "a = [1, 3, 5, 7, 9, 10]\n",
    "b = [2, 4, 6, 8]\n",
    "a[-1:] = b\n",
    "print(a)\n",
    "\n",
    "\n"
   ]
  },
  {
   "cell_type": "code",
   "execution_count": 16,
   "metadata": {},
   "outputs": [
    {
     "name": "stdout",
     "output_type": "stream",
     "text": [
      "{1: 10, 2: 20, 3: 30, 4: 40}\n"
     ]
    }
   ],
   "source": [
    "'''8.\tCreate a new dictionary by concatenating the following two dictionaries:\n",
    "a={1:10,2:20}\n",
    "b={3:30,4:40}\n",
    "Expected Result: {1:10,2:20,3:30,4:40}\n",
    "'''\n",
    "d1={1:10, 2:20}\n",
    "d2={3:30, 4:40}\n",
    "d3 = {}\n",
    "for d in (d1, d2): d3.update(d)\n",
    "print(d3)\n"
   ]
  },
  {
   "cell_type": "code",
   "execution_count": 19,
   "metadata": {},
   "outputs": [
    {
     "name": "stdout",
     "output_type": "stream",
     "text": [
      "Enter total numbers 5\n",
      "{1: 1, 2: 4, 3: 9, 4: 16, 5: 25}\n"
     ]
    }
   ],
   "source": [
    "'''9.\tCreate a dictionary that contains a number (between 1 and n) in the form(x,x*x).\n",
    "Sample data (n=5)\n",
    "Expected Output: {1:1,2:4,3:9,4:16,5:25}'''\n",
    "\n",
    "n=int(input(\"Enter total numbers \"))\n",
    "d = dict()\n",
    "\n",
    "for x in range(1,n+1):\n",
    "    d[x]=x*x\n",
    "\n",
    "print(d) \n",
    "\n",
    "\n"
   ]
  },
  {
   "cell_type": "code",
   "execution_count": 22,
   "metadata": {},
   "outputs": [
    {
     "name": "stdout",
     "output_type": "stream",
     "text": [
      "Enter numbers 34,67,55,33,12,98\n",
      "List :  ['34', '67', '55', '33', '12', '98']\n",
      "Tuple :  ('34', '67', '55', '33', '12', '98')\n"
     ]
    }
   ],
   "source": [
    "'''10.Write a program which accepts a sequence of comma-separated numbers \n",
    "from console and generate a list and a tuple which contains every number. \n",
    "Suppose the following input is supplied to the program:\n",
    "34,67,55,33,12,98\n",
    "The output should be:\n",
    "[‘34’,’67’,’55’,’33’,’12’,’98’]\n",
    "(‘34’,’67’,’55’,’33’,’12’,’98’)'''\n",
    "\n",
    "num = input(\"Enter numbers \")\n",
    "l = list(num.split(\",\"))\n",
    "t = tuple(l)\n",
    "print('List : ',l)\n",
    "print('Tuple : ',t)\n",
    "\n"
   ]
  },
  {
   "cell_type": "code",
   "execution_count": null,
   "metadata": {},
   "outputs": [],
   "source": []
  }
 ],
 "metadata": {
  "kernelspec": {
   "display_name": "Python 3",
   "language": "python",
   "name": "python3"
  },
  "language_info": {
   "codemirror_mode": {
    "name": "ipython",
    "version": 3
   },
   "file_extension": ".py",
   "mimetype": "text/x-python",
   "name": "python",
   "nbconvert_exporter": "python",
   "pygments_lexer": "ipython3",
   "version": "3.7.4"
  }
 },
 "nbformat": 4,
 "nbformat_minor": 2
}
